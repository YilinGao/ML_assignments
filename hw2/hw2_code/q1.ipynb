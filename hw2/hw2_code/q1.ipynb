{
 "cells": [
  {
   "cell_type": "markdown",
   "metadata": {},
   "source": [
    "# Compsci 571 Homework 2\n",
    "Question 1 Basketball Court Classification\n",
    "Yilin Gao (yg95)\n",
    "Python 3.6"
   ]
  },
  {
   "cell_type": "code",
   "execution_count": 4,
   "metadata": {},
   "outputs": [],
   "source": [
    "import numpy as np\n",
    "import matplotlib.pyplot as plt\n",
    "from sklearn import tree\n",
    "import graphviz\n",
    "from os import system"
   ]
  },
  {
   "cell_type": "markdown",
   "metadata": {},
   "source": [
    "## the perceptron algorithm"
   ]
  },
  {
   "cell_type": "code",
   "execution_count": 6,
   "metadata": {},
   "outputs": [],
   "source": [
    "# parameter S: numpy array for the dataset (training/testing)\n",
    "#     S.shape = (n, p+1)\n",
    "#     each row is sample {xi, yi}, with p features and 1 label\n",
    "# parameter I: max number of epochs, default to 100\n",
    "# return epoch_w: w vector for each epoch number from 0 to 99\n",
    "#     epoch_w.shape = (100, p)\n",
    "\n",
    "def perceptron(S, I = 100):\n",
    "    n = S.shape[0]\n",
    "    p = S.shape[1] - 1\n",
    "    epoch_w = np.empty([0, p])\n",
    "    w = np.zeros([1, p])\n",
    "    ite = 0 # iteration defined as number of updates\n",
    "    for e in range(0, I):\n",
    "        mis = False # if in this epoch there is no more misclassified points\n",
    "        for i in range(0, n):\n",
    "            if S[i, -1].reshape(1, 1) * np.dot(w, S[i, 0:p]) <= 0:\n",
    "                mis = True\n",
    "                w = w + S[i, -1].reshape(1, 1) * S[i, 0:p]\n",
    "                ite += 1\n",
    "        epoch_w = np.append(epoch_w, w, axis = 0)\n",
    "        if (mis == False): # after this epoch all points are correctly classified, end and return current w\n",
    "            print('Perceptron algorithm ends at epoch ' + str(e) + '.')\n",
    "            print('Perceptron algorithm ends after ' + str(ite) + ' iterations.')\n",
    "            return epoch_w\n",
    "    print('Perceptron maximum epoch is reached.')\n",
    "    return epoch_w"
   ]
  },
  {
   "cell_type": "markdown",
   "metadata": {},
   "source": [
    "## data"
   ]
  },
  {
   "cell_type": "code",
   "execution_count": 18,
   "metadata": {},
   "outputs": [
    {
     "name": "stdout",
     "output_type": "stream",
     "text": [
      "[[ 0.75  0.1  -1.  ]\n",
      " [ 0.85  0.8  -1.  ]\n",
      " [ 0.85  0.95  1.  ]\n",
      " [ 0.15  0.1  -1.  ]\n",
      " [ 0.05  0.25  1.  ]\n",
      " [ 0.05  0.5   1.  ]\n",
      " [ 0.85  0.25 -1.  ]]\n"
     ]
    }
   ],
   "source": [
    "S = np.array([[0.75, 0.10, -1], [0.85, 0.8, -1], [0.85, 0.95, 1], [0.15, 0.1, -1], [0.05, 0.25, 1], [0.05, 0.5, 1], [0.85, 0.25, -1]])\n",
    "n = S.shape[0]\n",
    "print(S)"
   ]
  },
  {
   "cell_type": "markdown",
   "metadata": {},
   "source": [
    "## q1a"
   ]
  },
  {
   "cell_type": "code",
   "execution_count": 19,
   "metadata": {},
   "outputs": [
    {
     "name": "stdout",
     "output_type": "stream",
     "text": [
      "Perceptron algorithm ends at epoch 2.\n",
      "Perceptron algorithm ends after 7 iterations.\n",
      "[[-0.9   0.5 ]\n",
      " [-1.05  1.1 ]\n",
      " [-1.05  1.1 ]]\n"
     ]
    }
   ],
   "source": [
    "# run Perceptron to compute a linear classifier going though the origin on the dataset\n",
    "# w initialized at [0, 0]\n",
    "# scan the observed points in the given order\n",
    "\n",
    "w_perc = perceptron(S)\n",
    "print(w_perc)"
   ]
  },
  {
   "cell_type": "code",
   "execution_count": 20,
   "metadata": {},
   "outputs": [
    {
     "data": {
      "image/png": "[encoded data removed]",
      "text/plain": [
       "<matplotlib.figure.Figure at 0x106114470>"
      ]
     },
     "metadata": {},
     "output_type": "display_data"
    }
   ],
   "source": [
    "# plot observed data points, the perceptron boundary after convergence, and all other boundaries with same error rate\n",
    "\n",
    "# training points\n",
    "n_classes = 2\n",
    "colors = 'br'\n",
    "for yvalue, color in zip([1, -1], colors):\n",
    "    idx = np.where(S[:, -1] == yvalue)\n",
    "    plt.scatter(S[idx, 0], S[idx, 1], c = color, label = yvalue, edgecolor = 'black', s = 20)\n",
    "\n",
    "# other decision boundaries with same error\n",
    "x_other = 1.1\n",
    "y_other = np.arange(1.035, 1.229, 0.002)\n",
    "for yi in np.nditer(y_other):\n",
    "    plt.plot([0, x_other], [0, yi], 'y')\n",
    "\n",
    "# calculated decision boundary from perceptron\n",
    "x_perc = w_perc[-1, 1]\n",
    "y_perc = -1 * w_perc[-1, 0]\n",
    "plt.plot([0, x_perc], [0, y_perc], 'c', label = 'linear classifier')\n",
    "plt.text(0.45, 0.38, r'$f(x_1, x_2) = -1.05 * x_1 + 1.1 * x_2$' )\n",
    "\n",
    "plt.legend()\n",
    "plt.xlabel(r'$x_1$')\n",
    "plt.ylabel(r'$x_2$')\n",
    "plt.axis([0, 1, 0, 1])\n",
    "plt.gca().set_aspect('equal', adjustable='box')\n",
    "plt.grid()\n",
    "plt.show()"
   ]
  },
  {
   "cell_type": "markdown",
   "metadata": {},
   "source": [
    "## q1b"
   ]
  },
  {
   "cell_type": "code",
   "execution_count": 21,
   "metadata": {},
   "outputs": [
    {
     "name": "stdout",
     "output_type": "stream",
     "text": [
      "Error rate of decision tree is 0.0\n"
     ]
    }
   ],
   "source": [
    "# grow a fully-grown decision tree using Gini Index as the splitting criteria\n",
    "\n",
    "X = S[:, 0: -1]\n",
    "y = S[:, -1]\n",
    "# criteria is gini by default\n",
    "dt = tree.DecisionTreeClassifier()\n",
    "dt = dt.fit(X, y)\n",
    "yhat_tree = dt.predict(X)\n",
    "error_tree = sum(yhat_tree != y) / n\n",
    "print('Error rate of decision tree is', error_tree)"
   ]
  },
  {
   "cell_type": "code",
   "execution_count": 8,
   "metadata": {},
   "outputs": [
    {
     "data": {
      "text/plain": [
       "0"
      ]
     },
     "execution_count": 8,
     "metadata": {},
     "output_type": "execute_result"
    }
   ],
   "source": [
    "# generate png file of the decision tree\n",
    "dotfile = open('tree.dot', 'w')\n",
    "tree.export_graphviz(dt, out_file = dotfile)\n",
    "dotfile.close()\n",
    "system('dot -Tpng tree.dot -o ../hw2_answer/images/q1b_tree.png')\n",
    "system('rm tree.dot')"
   ]
  },
  {
   "cell_type": "code",
   "execution_count": 22,
   "metadata": {},
   "outputs": [
    {
     "data": {
      "image/png": "[encoded data removed]",
      "text/plain": [
       "<matplotlib.figure.Figure at 0x10601e6a0>"
      ]
     },
     "metadata": {},
     "output_type": "display_data"
    }
   ],
   "source": [
    "# plot observed data points and decision tree boundary after convergence\n",
    "# reference: http://scikit-learn.org/stable/auto_examples/tree/plot_iris.html\n",
    "        \n",
    "# Parameters\n",
    "n_classes = 2\n",
    "plot_colors = 'rb'\n",
    "plot_step = 0.02\n",
    "\n",
    "# Plot the decision boundary\n",
    "x_bd_min, x_bd_max = 0, 1.02\n",
    "y_bd_min, y_bd_max = 0, 1.02\n",
    "xx_bd, yy_bd = np.meshgrid(np.arange(x_bd_min, x_bd_max, plot_step),\n",
    "                    np.arange(y_bd_min, y_bd_max, plot_step))\n",
    "plt.tight_layout(h_pad=0.5, w_pad=0.5, pad=2.5)\n",
    "\n",
    "Z_bd = dt.predict(np.c_[xx_bd.ravel(), yy_bd.ravel()])\n",
    "Z_bd = Z_bd.reshape(xx_bd.shape)\n",
    "cs = plt.contourf(xx_bd, yy_bd, Z_bd)\n",
    "\n",
    "plt.xlabel(r'$x_1$')\n",
    "plt.ylabel(r'$x_2$')\n",
    "\n",
    "# Plot the training points\n",
    "for i, color in zip([-1, 1], plot_colors):\n",
    "    idx = np.where(y == i)\n",
    "    plt.scatter(X[idx, 0], X[idx, 1], c=color, label=i,\n",
    "                cmap=plt.cm.RdYlBu, edgecolor='black', s=20)\n",
    "\n",
    "plt.legend()\n",
    "plt.gca().set_aspect('equal', adjustable='box')\n",
    "plt.show()"
   ]
  },
  {
   "cell_type": "code",
   "execution_count": 12,
   "metadata": {},
   "outputs": [
    {
     "data": {
      "image/png": "[encoded data removed]",
      "text/plain": [
       "<matplotlib.figure.Figure at 0x10d66e710>"
      ]
     },
     "metadata": {},
     "output_type": "display_data"
    }
   ],
   "source": [
    "# plot observed data points, decision tree boundary after convergence, and all other decision boundaries with same error rate\n",
    "\n",
    "# Parameters\n",
    "n_classes = 2\n",
    "plot_colors = 'rb'\n",
    "plot_step = 0.02\n",
    "\n",
    "# Plot the decision boundary\n",
    "x_bd_min, x_bd_max = 0, 1.02\n",
    "y_bd_min, y_bd_max = 0, 1.02\n",
    "xx_bd, yy_bd = np.meshgrid(np.arange(x_bd_min, x_bd_max, plot_step),\n",
    "                    np.arange(y_bd_min, y_bd_max, plot_step))\n",
    "plt.tight_layout(h_pad=0.5, w_pad=0.5, pad=2.5)\n",
    "\n",
    "Z_bd = dt.predict(np.c_[xx_bd.ravel(), yy_bd.ravel()])\n",
    "Z_bd = Z_bd.reshape(xx_bd.shape)\n",
    "cs = plt.contourf(xx_bd, yy_bd, Z_bd)\n",
    "\n",
    "plt.xlabel(r'$x_1$')\n",
    "plt.ylabel(r'$x_2$')\n",
    "\n",
    "# Plot the training points\n",
    "for i, color in zip([-1, 1], plot_colors):\n",
    "    idx = np.where(y == i)\n",
    "    plt.scatter(X[idx, 0], X[idx, 1], c=color, label=i,\n",
    "                cmap=plt.cm.RdYlBu, edgecolor='black', s=20)\n",
    "\n",
    "# other decision boundaries\n",
    "x_other = np.arange(0.05, 0.15, 0.002)\n",
    "y_other = 0.95\n",
    "for xi in np.nditer(x_other):\n",
    "    plt.plot([xi, xi], [0, y_other], 'r')\n",
    "x_other = 0.05\n",
    "y_other = np.arange(0.8, 0.952, 0.002)\n",
    "for yi in np.nditer(y_other):\n",
    "    plt.plot([x_other, 1], [yi, yi], 'r')\n",
    "\n",
    "plt.legend()\n",
    "plt.gca().set_aspect('equal', adjustable='box')\n",
    "plt.show()"
   ]
  },
  {
   "cell_type": "markdown",
   "metadata": {},
   "source": [
    "## q1c\n",
    "\n",
    "When $0 \\leq k \\leq 1$, $\\min_{k} error = \\frac{\\pi}{4} - \\frac{1}{2}$, $k^* = 1$\n",
    "\n",
    "When $k > 1$, $\\min_{k} error = \\int_{0}^{\\frac{1}{k^2}} (\\sqrt{x} - kx) dx + \\int_{\\frac{1}{k^2}}^{\\frac{1}{k}} (kx - \\sqrt{x})dx + \\int_{\\frac{1}{k}}^{1} (1 - \\sqrt{x}) dx$"
   ]
  },
  {
   "cell_type": "code",
   "execution_count": 26,
   "metadata": {},
   "outputs": [],
   "source": [
    "from sympy import integrate\n",
    "from sympy.abc import x, k\n",
    "import scipy.optimize as opt"
   ]
  },
  {
   "cell_type": "code",
   "execution_count": 12,
   "metadata": {},
   "outputs": [
    {
     "data": {
      "text/plain": [
       "1.33333333333333*(k**(-2))**1.5 + 0.333333333333333 - 1/(2*k) - 1/k**3"
      ]
     },
     "execution_count": 12,
     "metadata": {},
     "output_type": "execute_result"
    }
   ],
   "source": [
    "integrate(x**0.5 - k*x, (x, 0, 1/k**2)) + integrate(k*x - x**0.5, (x, 1/k**2, 1/k)) + integrate(1 - x**0.5, (x, 1/k, 1))"
   ]
  },
  {
   "cell_type": "code",
   "execution_count": 36,
   "metadata": {},
   "outputs": [
    {
     "data": {
      "text/plain": [
       "      fun: 0.09763107302369611\n",
       " hess_inv: array([[2.87164847]])\n",
       "      jac: array([7.78958201e-06])\n",
       "  message: 'Optimization terminated successfully.'\n",
       "     nfev: 18\n",
       "      nit: 5\n",
       "     njev: 6\n",
       "   status: 0\n",
       "  success: True\n",
       "        x: array([1.4142356])"
      ]
     },
     "execution_count": 36,
     "metadata": {},
     "output_type": "execute_result"
    }
   ],
   "source": [
    "def target(k):\n",
    "    return 1.33333333333333*(k**(-2))**1.5 + 0.333333333333333 - 1/(2*k) - 1/k**3\n",
    "\n",
    "opt.minimize(target, 1)"
   ]
  },
  {
   "cell_type": "code",
   "execution_count": 37,
   "metadata": {},
   "outputs": [
    {
     "data": {
      "image/png": "[encoded data removed]",
      "text/plain": [
       "<matplotlib.figure.Figure at 0x10b596d68>"
      ]
     },
     "metadata": {},
     "output_type": "display_data"
    }
   ],
   "source": [
    "# plot of the true linear boundary on the basketball court\n",
    "\n",
    "# true optimized linear boundary\n",
    "plt.plot([0, 1 / 1.4142], [0, 1], 'b', )\n",
    "plt.text(0.1, 0.9, r'$f(x_1, x_2) = -1.4142 * x_1 + 1 * x_2$' )\n",
    "\n",
    "# true curve\n",
    "x_true = np.arange(0, 1, 0.01, dtype = float)\n",
    "y_true = x_true ** 0.5\n",
    "\n",
    "plt.plot(x_true, y_true, 'black')\n",
    "plt.text(0.5, 0.65, r'$x_2 = x_1^{1/2}$' )\n",
    "\n",
    "plt.xlabel(r'$x_1$')\n",
    "plt.ylabel(r'$x_2$')\n",
    "plt.axis([0, 1, 0, 1])\n",
    "plt.gca().set_aspect('equal', adjustable='box')\n",
    "plt.grid()\n",
    "plt.show()"
   ]
  },
  {
   "cell_type": "markdown",
   "metadata": {},
   "source": [
    "## q1d\n",
    "\n",
    "For the tree starting from $X_1$:\n",
    "\n",
    "1) $0 \\leq s_2 < \\sqrt{s_1}$ and $\\sqrt{s_1} < s_3 \\leq 1$, $\\min_{s_1, s_2, s_3} error = \\int_{0}^{s_2^2} (s_2 - \\sqrt{x}) dx + \\int_{s_2^2}^{s_1} (\\sqrt{x} - s_2) dx + \\int_{s_1}^{s_3^2} (s_3 - \\sqrt{x}) dx + \\int_{s_3^2}^{1} (\\sqrt{x} - s_3) dx$\n",
    "\n",
    "2) $0 \\leq s_2 < \\sqrt{s_1}$ and $0 \\leq s_3 \\leq \\sqrt{s_1}$, $\\min_{s_1, s_2, s_3} error = \\int_{0}^{s_2^2} (s_2 - \\sqrt{x}) dx + \\int_{s_2^2}^{s_1} (\\sqrt{x} - s_2) dx + \\int_{s_1}^{1} (\\sqrt{x} - s_3) dx = \\min_{s_1, s_2, s_3 = \\sqrt{s_1}} (\\int_{0}^{s_2^2} (s_2 - \\sqrt{x}) dx + \\int_{s_2^2}^{s_1} (\\sqrt{x} - s_2) dx + \\int_{s_1}^{1} (\\sqrt{x} - \\sqrt{s_1} dx)$\n",
    "\n",
    "3) $\\sqrt{s_1} \\leq s_2 \\leq 1$ and $\\sqrt{s_1} < s_3 \\leq 1$, $\\min_{s_1, s_2, s_3} error = \\int_{0}^{s_1} (s_2 - \\sqrt{x}) dx + \\int_{s_1}^{s_3^2} (s_3 - \\sqrt{x}) dx + \\int_{s_3^2}^{1} (\\sqrt(x) - s_3) dx = \\min_{s_1, s_2 = \\sqrt{s_1}, s_3} (\\int_{0}^{s_1} (\\sqrt{s_1} - \\sqrt{x}) dx + \\int_{s_1}^{s_3^2} (s_3 - \\sqrt{x}) dx + \\int_{s_3^2}^{1} (\\sqrt(x) - s_3) dx)$\n",
    "\n",
    "4) $\\sqrt{s_1} \\leq s_2 \\leq 1$ and $0 \\leq s_3 \\leq \\sqrt{s_1}$, $\\min_{s_1, s_2, s_3} error = \\int_{0}^{s_1} (s_2 - \\sqrt{x}) dx + \\int_{s_1}^{1} (\\sqrt{x} - s_3) dx = \\min_{s_1, s_2 = \\sqrt{s_1}, s_3 = \\sqrt{s_1}} (\\int_{0}^{s_1} (\\sqrt{s_1} - \\sqrt{x}) dx + \\int_{s_1}^{1} (\\sqrt{x} - \\sqrt{s_1}) dx)$"
   ]
  },
  {
   "cell_type": "code",
   "execution_count": 31,
   "metadata": {},
   "outputs": [],
   "source": [
    "from sympy.abc import a, b, c"
   ]
  },
  {
   "cell_type": "code",
   "execution_count": 41,
   "metadata": {},
   "outputs": [
    {
     "name": "stdout",
     "output_type": "stream",
     "text": [
      "-a*b - a*c + 1.33333333333333*a**1.5 + 2*b**3 + 2*c**3 - c - 1.33333333333333*(b**2)**1.5 - 1.33333333333333*(c**2)**1.5 + 0.666666666666667\n",
      "-a**0.5 - a*b + 1.0*a**1.5 + 2*b**3 - 1.33333333333333*(b**2)**1.5 + 0.666666666666667\n",
      "-a*c + 1.0*a**1.5 + 2*c**3 - c - 1.33333333333333*(c**2)**1.5 + 0.666666666666667\n",
      "-a**0.5 + 0.666666666666667*a**1.5 + 0.666666666666667\n"
     ]
    }
   ],
   "source": [
    "i1 = integrate(b - x**0.5, (x, 0, b**2)) + integrate(x**0.5 - b, (x, b**2, a)) + integrate(c - x**0.5, (x, a, c**2)) + integrate(x**0.5 - c, (x, c**2, 1))\n",
    "i2 = integrate(b - x**0.5, (x, 0, b**2)) + integrate(x**0.5 - b, (x, b**2, a)) + integrate(x**0.5 - a**0.5, (x, a, 1))\n",
    "i3 = integrate(a**0.5 - x**0.5, (x, 0, a)) + integrate(c - x**0.5, (x, a, c**2)) + integrate(x**0.5 - c, (x, c**2, 1))\n",
    "i4 = integrate(a**0.5 - x**0.5, (x, 0, a)) + integrate(x**0.5 - a**0.5, (x, a, 1))\n",
    "print(i1)\n",
    "print(i2)\n",
    "print(i3)\n",
    "print(i4)"
   ]
  },
  {
   "cell_type": "code",
   "execution_count": 48,
   "metadata": {},
   "outputs": [
    {
     "name": "stdout",
     "output_type": "stream",
     "text": [
      "Optimized results of i1:\n",
      "       fun: 0.1035845342551841\n",
      " hess_inv: array([[1.45825619, 0.79763826, 0.42619826],\n",
      "       [0.79763826, 0.98231132, 0.22749152],\n",
      "       [0.42619826, 0.22749152, 0.43243692]])\n",
      "      jac: array([ 1.01327896e-06,  1.42306089e-06, -2.80886889e-06])\n",
      "  message: 'Optimization terminated successfully.'\n",
      "     nfev: 45\n",
      "      nit: 6\n",
      "     njev: 9\n",
      "   status: 0\n",
      "  success: True\n",
      "        x: array([0.42677801, 0.46194124, 0.84462275]) \n",
      "============\n",
      "Optimized results of i2:\n",
      "       fun: 0.13726367483277901\n",
      " hess_inv: array([[0.9802385 , 0.45420514],\n",
      "       [0.45420514, 0.64092943]])\n",
      "      jac: array([-4.16487455e-06,  4.24683094e-06])\n",
      "  message: 'Optimization terminated successfully.'\n",
      "     nfev: 32\n",
      "      nit: 6\n",
      "     njev: 8\n",
      "   status: 0\n",
      "  success: True\n",
      "        x: array([0.63059963, 0.56151753]) \n",
      "============\n",
      "Optimized results of i3:\n",
      "       fun: 0.13214418284184914\n",
      " hess_inv: array([[0.91732409, 0.28837346],\n",
      "       [0.28837346, 0.40599356]])\n",
      "      jac: array([-1.49011612e-08,  4.24683094e-07])\n",
      "  message: 'Optimization terminated successfully.'\n",
      "     nfev: 28\n",
      "      nit: 5\n",
      "     njev: 7\n",
      "   status: 0\n",
      "  success: True\n",
      "        x: array([0.28571438, 0.80178388]) \n",
      "============\n",
      "Optimized results of i4:\n",
      "       fun: 0.19526214587563534\n",
      " hess_inv: array([[1]])\n",
      "      jac: array([1.86264515e-08])\n",
      "  message: 'Optimization terminated successfully.'\n",
      "     nfev: 3\n",
      "      nit: 0\n",
      "     njev: 1\n",
      "   status: 0\n",
      "  success: True\n",
      "        x: array([0.5]) \n",
      "============\n"
     ]
    }
   ],
   "source": [
    "def t1(p):\n",
    "    a = p[0]\n",
    "    b = p[1]\n",
    "    c = p[2]\n",
    "    return -a*b - a*c + 1.33333333333333*a**1.5 + 2*b**3 + 2*c**3 - c - 1.33333333333333*(b**2)**1.5 - 1.33333333333333*(c**2)**1.5 + 0.666666666666667\n",
    "\n",
    "def t2(p):\n",
    "    a = p[0]\n",
    "    b = p[1]\n",
    "    return -a**0.5 - a*b + 1.0*a**1.5 + 2*b**3 - 1.33333333333333*(b**2)**1.5 + 0.666666666666667\n",
    "\n",
    "def t3(p):\n",
    "    a = p[0]\n",
    "    c = p[1]\n",
    "    return -a*c + 1.0*a**1.5 + 2*c**3 - c - 1.33333333333333*(c**2)**1.5 + 0.666666666666667\n",
    "\n",
    "def t4(p):\n",
    "    a = p[0]\n",
    "    return -a**0.5 + 0.666666666666667*a**1.5 + 0.666666666666667\n",
    "\n",
    "m1 = opt.minimize(t1, [0.5, 0.25, 0.75])\n",
    "m2 = opt.minimize(t2, [0.5, 0.25])\n",
    "m3 = opt.minimize(t3, [0.5, 0.75])\n",
    "m4 = opt.minimize(t4, [0.5])\n",
    "print('Optimized results of i1:\\n', m1, '\\n============')\n",
    "print('Optimized results of i2:\\n', m2, '\\n============')\n",
    "print('Optimized results of i3:\\n', m3, '\\n============')\n",
    "print('Optimized results of i4:\\n', m4, '\\n============')"
   ]
  },
  {
   "cell_type": "code",
   "execution_count": 59,
   "metadata": {},
   "outputs": [
    {
     "data": {
      "image/png": "[encoded data removed]",
      "text/plain": [
       "<matplotlib.figure.Figure at 0x10b4d8eb8>"
      ]
     },
     "metadata": {},
     "output_type": "display_data"
    }
   ],
   "source": [
    "# plot of the true decision tree boundary on the basketball court\n",
    "\n",
    "# true optimized decision tree boundary\n",
    "plt.plot([0.42677801, 0.42677801], [0, 1], 'b', )\n",
    "plt.plot([0, 0.42677801], [0.46194124, 0.46194124], 'b', )\n",
    "plt.plot([0.42677801, 1], [0.84462275, 0.84462275], 'b', )\n",
    "plt.text(0.42677801, 0.1, r'$s_1 = 0.42677801$' )\n",
    "plt.text(0.02, 0.5, r'$s_2 = 0.46194124$' )\n",
    "plt.text(0.52, 0.9, r'$s_3 = 0.84462275$' )\n",
    "\n",
    "# true curve\n",
    "x_true = np.arange(0, 1, 0.01, dtype = float)\n",
    "y_true = x_true ** 0.5\n",
    "\n",
    "plt.plot(x_true, y_true, 'black')\n",
    "plt.text(0.5, 0.65, r'$x_2 = x_1^{1/2}$' )\n",
    "\n",
    "plt.xlabel(r'$x_1$')\n",
    "plt.ylabel(r'$x_2$')\n",
    "plt.axis([0, 1, 0, 1])\n",
    "plt.gca().set_aspect('equal', adjustable='box')\n",
    "plt.grid()\n",
    "plt.show()"
   ]
  },
  {
   "cell_type": "markdown",
   "metadata": {},
   "source": [
    "## q1d\n",
    "\n",
    "For the tree starting from $X_2$:\n",
    "\n",
    "1) $0 \\leq s_2 < s_1^2$ and $s_1^2 < s_3 \\leq 1$, $\\min_{s_1, s_2, s_3} error = \\int_{0}^{s_2} \\sqrt{x} dx + \\int_{s_2}^{s_1^2} (s_1 - \\sqrt{x}) dx + \\int_{s_1^2}^{s_3} (\\sqrt{x} - s_1) dx + \\int_{s_3}^{1} (1 - \\sqrt{x}) dx$\n",
    "\n",
    "2) $ s_1^2 \\leq s_2 \\leq 1$ and $s_1^2 < s_3 \\leq 1$, $\\min_{s_1, s_2 = s_1^2, s_3} error = \\int_{0}^{s_1^2} \\sqrt{x} dx + \\int_{s_1^2}^{s_3} (\\sqrt{x} - s_1) dx + \\int_{s_3}^{1} (1 - \\sqrt{x}) dx$\n",
    "\n",
    "3) $0 \\leq s_2 < s_1^2$ and $0 \\leq s_3 \\leq s_1^2$, $\\min_{s_1, s_2, s_3 = s_1^2} error = \\int_{0}^{s_2} \\sqrt{x} dx + \\int_{s_2}^{s_1^2} (s_1 - \\sqrt{x}) dx + \\int_{s_1^2}^{1} (1 - \\sqrt{x}) dx$\n",
    "\n",
    "4) $ s_1^2 \\leq s_2 \\leq 1$  and $0 \\leq s_3 \\leq s_1^2$, $\\min_{s_1, s_2 = s_1^2, s_3 = s_1^2} error = \\int_{0}^{s_1^2} \\sqrt{x} dx + \\int_{s_1^2}^{1} (1 - \\sqrt{x}) dx$"
   ]
  },
  {
   "cell_type": "code",
   "execution_count": 69,
   "metadata": {},
   "outputs": [
    {
     "name": "stdout",
     "output_type": "stream",
     "text": [
      "2*a**3 - a*b - a*c + 1.33333333333333*b**1.5 - c + 1.33333333333333*c**1.5 - 1.33333333333333*(a**2)**1.5 + 0.333333333333333\n",
      "a**3 - a*c - c + 1.33333333333333*c**1.5 + 0.333333333333333\n",
      "a**3 - a**2 - a*b + 1.33333333333333*b**1.5 + 0.333333333333333\n",
      "-a**2 + 1.33333333333333*(a**2)**1.5 + 0.333333333333333\n"
     ]
    }
   ],
   "source": [
    "i1 = integrate(x**0.5, (x, 0, b)) + integrate(a - x**0.5, (x, b, a**2)) + integrate(x**0.5 - a, (x, a**2, c)) + integrate(1 - x**0.5, (x, c, 1))\n",
    "i2 = integrate(x**0.5, (x, 0, a**2)) + integrate(x**0.5 - a, (x, a**2,  c)) + integrate(1 - x**0.5, (x, c, 1))\n",
    "i3 = integrate(x**0.5, (x, 0, b)) + integrate((a - x**0.5), (x, b, a**2)) + integrate(1 - x**0.5, (x, a**2, 1))\n",
    "i4 = integrate(x**0.5, (x, 0, a**2)) + integrate(1 - x**0.5, (x, a**2, 1))\n",
    "print(i1)\n",
    "print(i2)\n",
    "print(i3)\n",
    "print(i4)"
   ]
  },
  {
   "cell_type": "code",
   "execution_count": 74,
   "metadata": {},
   "outputs": [
    {
     "name": "stdout",
     "output_type": "stream",
     "text": [
      "Optimized results of i1:\n",
      "       fun: 0.11796176307566364\n",
      " hess_inv: array([[0.754286  , 0.22089811, 0.60325962],\n",
      "       [0.22089811, 0.35077948, 0.17645841],\n",
      "       [0.60325962, 0.17645841, 1.29050094]])\n",
      "      jac: array([-9.42498446e-07,  7.15255737e-06,  8.94069672e-08])\n",
      "  message: 'Optimization terminated successfully.'\n",
      "     nfev: 50\n",
      "      nit: 7\n",
      "     njev: 10\n",
      "   status: 0\n",
      "  success: True\n",
      "        x: array([0.60762617, 0.09230456, 0.64611553]) \n",
      "============\n",
      "Optimized results of i2:\n",
      "       fun: 0.16863743887189886\n",
      " hess_inv: array([[0.60045677, 0.45294619],\n",
      "       [0.45294619, 1.08529668]])\n",
      "      jac: array([4.91738319e-07, 2.51084566e-06])\n",
      "  message: 'Optimization terminated successfully.'\n",
      "     nfev: 32\n",
      "      nit: 7\n",
      "     njev: 8\n",
      "   status: 0\n",
      "  success: True\n",
      "        x: array([0.40582871, 0.49409035]) \n",
      "============\n",
      "Optimized results of i3:\n",
      "       fun: 0.15702479339561878\n",
      " hess_inv: array([[0.53617698, 0.20548689],\n",
      "       [0.20548689, 0.4446449 ]])\n",
      "      jac: array([4.25800681e-06, 2.20350921e-06])\n",
      "  message: 'Optimization terminated successfully.'\n",
      "     nfev: 32\n",
      "      nit: 6\n",
      "     njev: 8\n",
      "   status: 0\n",
      "  success: True\n",
      "        x: array([0.72727524, 0.13223311]) \n",
      "============\n",
      "Optimized results of i4:\n",
      "       fun: 0.24999999999999922\n",
      " hess_inv: array([[1]])\n",
      "      jac: array([1.49011612e-08])\n",
      "  message: 'Optimization terminated successfully.'\n",
      "     nfev: 3\n",
      "      nit: 0\n",
      "     njev: 1\n",
      "   status: 0\n",
      "  success: True\n",
      "        x: array([0.5]) \n",
      "============\n"
     ]
    }
   ],
   "source": [
    "def t1(p):\n",
    "    a = p[0]\n",
    "    b = p[1]\n",
    "    c = p[2]\n",
    "    return 2*a**3 - a*b - a*c + 1.33333333333333*b**1.5 - c + 1.33333333333333*c**1.5 - 1.33333333333333*(a**2)**1.5 + 0.333333333333333\n",
    "\n",
    "def t2(p):\n",
    "    a = p[0]\n",
    "    c = p[1]\n",
    "    return a**3 - a*c - c + 1.33333333333333*c**1.5 + 0.333333333333333\n",
    "\n",
    "def t3(p):\n",
    "    a = p[0]\n",
    "    b = p[1]\n",
    "    return a**3 - a**2 - a*b + 1.33333333333333*b**1.5 + 0.333333333333333\n",
    "\n",
    "def t4(p):\n",
    "    a = p[0]\n",
    "    return -a**2 + 1.33333333333333*(a**2)**1.5 + 0.333333333333333\n",
    "\n",
    "m1 = opt.minimize(t1, [0.5, 0, 0.75])\n",
    "m2 = opt.minimize(t2, [0.5, 0.75])\n",
    "m3 = opt.minimize(t3, [0.5, 0])\n",
    "m4 = opt.minimize(t4, [0.5])\n",
    "print('Optimized results of i1:\\n', m1, '\\n============')\n",
    "print('Optimized results of i2:\\n', m2, '\\n============')\n",
    "print('Optimized results of i3:\\n', m3, '\\n============')\n",
    "print('Optimized results of i4:\\n', m4, '\\n============')"
   ]
  },
  {
   "cell_type": "code",
   "execution_count": 80,
   "metadata": {},
   "outputs": [
    {
     "data": {
      "image/png": "[encoded data removed]",
      "text/plain": [
       "<matplotlib.figure.Figure at 0x10b45eb00>"
      ]
     },
     "metadata": {},
     "output_type": "display_data"
    }
   ],
   "source": [
    "# plot of the true decision tree boundary on the basketball court\n",
    "\n",
    "# true optimized decision tree boundary\n",
    "plt.plot([0, 1], [0.60762617, 0.60762617], 'b', )\n",
    "plt.plot([0.09230456, 0.09230456], [0, 0.60762617], 'b', )\n",
    "plt.plot([0.64611553, 0.64611553], [0.60762617, 1], 'b', )\n",
    "plt.text(0.1, 0.63, r'$s_1 = 0.60762617$' )\n",
    "plt.text(0.02, 0.2, r'$s_2 = 0.09230456$' )\n",
    "plt.text(0.52, 0.9, r'$s_3 = 0.64611553$' )\n",
    "\n",
    "# true curve\n",
    "x_true = np.arange(0, 1, 0.01, dtype = float)\n",
    "y_true = x_true ** 0.5\n",
    "\n",
    "plt.plot(x_true, y_true, 'black')\n",
    "plt.text(0.5, 0.65, r'$x_2 = x_1^{1/2}$' )\n",
    "\n",
    "plt.xlabel(r'$x_1$')\n",
    "plt.ylabel(r'$x_2$')\n",
    "plt.axis([0, 1, 0, 1])\n",
    "plt.gca().set_aspect('equal', adjustable='box')\n",
    "plt.grid()\n",
    "plt.show()"
   ]
  },
  {
   "cell_type": "markdown",
   "metadata": {},
   "source": [
    "## q1g\n",
    "\n",
    "If $k \\in [\\frac{1}{2}, \\infty)$, local optimized $k' = \\frac{1}{2}$ minimizes $T' = \\frac{1}{8}$.\n",
    "\n",
    "If $k \\in (\\frac{1}{4}, \\frac{1}{2})$, $min_{k} error = \\int_{0}^{\\frac{1}{2}} kx dx + \\int_{\\frac{1}{2}}^{\\frac{1}{4k}} (\\frac{1}{4} - kx) dx$\n",
    "\n",
    "If $k \\in [0, \\frac{1}{4}]$, $min_{k} error = \\int_{0}^{\\frac{1}{2}} kx dx + \\int_{\\frac{1}{2}}^{1}(\\frac{1}{4} - kx) dx = 0.0625$"
   ]
  },
  {
   "cell_type": "code",
   "execution_count": 85,
   "metadata": {},
   "outputs": [
    {
     "data": {
      "text/plain": [
       "0.25*k - 0.125 + 0.03125/k"
      ]
     },
     "execution_count": 85,
     "metadata": {},
     "output_type": "execute_result"
    }
   ],
   "source": [
    "integrate(k*x, (x, 0, 0.5)) + integrate(0.25 - k*x, (x, 0.5, 1/(4*k)))"
   ]
  },
  {
   "cell_type": "code",
   "execution_count": 86,
   "metadata": {},
   "outputs": [
    {
     "name": "stdout",
     "output_type": "stream",
     "text": [
      "Optimized results of i1:\n",
      "       fun: 0.0517766952966372\n",
      " hess_inv: array([[0.70968921]])\n",
      "      jac: array([4.00468707e-08])\n",
      "  message: 'Optimization terminated successfully.'\n",
      "     nfev: 18\n",
      "      nit: 4\n",
      "     njev: 6\n",
      "   status: 0\n",
      "  success: True\n",
      "        x: array([0.35355341]) \n",
      "============\n"
     ]
    }
   ],
   "source": [
    "def t1(k):\n",
    "    return 0.25*k - 0.125 + 0.03125/k\n",
    "\n",
    "m1 = opt.minimize(t1, 0.25)\n",
    "print('Optimized results of i1:\\n', m1, '\\n============')"
   ]
  },
  {
   "cell_type": "code",
   "execution_count": 92,
   "metadata": {},
   "outputs": [
    {
     "data": {
      "image/png": "[encoded data removed]",
      "text/plain": [
       "<matplotlib.figure.Figure at 0x10be81470>"
      ]
     },
     "metadata": {},
     "output_type": "display_data"
    }
   ],
   "source": [
    "# plot of the true linear boundary on the basketball court\n",
    "\n",
    "# true optimized linear boundary\n",
    "plt.plot([0, 1], [0, 0.35355341], 'b', )\n",
    "plt.text(0.1, 0.1, r'$f(x_1, x_2) = -0.35355341 * x_1 + 1 * x_2$' )\n",
    "\n",
    "# true curve\n",
    "plt.plot([0.5, 0.5], [0, 0.25], 'black')\n",
    "plt.plot([0.5, 1], [0.25, 0.25], 'black')\n",
    "\n",
    "plt.xlabel(r'$x_1$')\n",
    "plt.ylabel(r'$x_2$')\n",
    "plt.axis([0, 1, 0, 1])\n",
    "plt.gca().set_aspect('equal', adjustable='box')\n",
    "plt.grid()\n",
    "plt.show()"
   ]
  },
  {
   "cell_type": "code",
   "execution_count": null,
   "metadata": {},
   "outputs": [],
   "source": []
  }
 ],
 "metadata": {
  "kernelspec": {
   "display_name": "Python 3",
   "language": "python",
   "name": "python3"
  },
  "language_info": {
   "codemirror_mode": {
    "name": "ipython",
    "version": 3
   },
   "file_extension": ".py",
   "mimetype": "text/x-python",
   "name": "python",
   "nbconvert_exporter": "python",
   "pygments_lexer": "ipython3",
   "version": "3.6.4"
  }
 },
 "nbformat": 4,
 "nbformat_minor": 2
}
