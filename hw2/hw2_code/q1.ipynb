{
 "cells": [
  {
   "cell_type": "code",
   "execution_count": null,
   "metadata": {},
   "outputs": [],
   "source": [
    "\"\"\"\n",
    "Compsci 571 Homework 2\n",
    "Question 1 Basketball Court Classification\n",
    "Yilin Gao (yg95)\n",
    "Python 3.6\n",
    "\"\"\""
   ]
  },
  {
   "cell_type": "code",
   "execution_count": 1,
   "metadata": {},
   "outputs": [],
   "source": [
    "\"\"\"Import libraries\"\"\"\n",
    "import numpy as np\n",
    "import matplotlib.pyplot as plt\n",
    "from sklearn import tree\n",
    "import graphviz\n",
    "from os import system"
   ]
  },
  {
   "cell_type": "code",
   "execution_count": 3,
   "metadata": {},
   "outputs": [],
   "source": [
    "'''\n",
    "the perceptron algorithm\n",
    "\n",
    "parameter S: numpy array for the dataset (training/testing)\n",
    "    S.shape = (n, p+1)\n",
    "    each row is sample {xi, yi}, with p features and 1 label\n",
    "parameter I: max number of epochs, default to 100\n",
    "return epoch_w: w vector for each epoch number from 0 to 99\n",
    "    epoch_w.shape = (100, p)\n",
    "'''\n",
    "def perceptron(S, I = 100):\n",
    "    n = S.shape[0]\n",
    "    p = S.shape[1] - 1\n",
    "    epoch_w = np.empty([0, p])\n",
    "    w = np.zeros([1, p])\n",
    "    ite = 0 # iteration defined as number of updates\n",
    "    for e in range(0, I):\n",
    "        mis = False # if in this epoch there is no more misclassified points\n",
    "        for i in range(0, n):\n",
    "            if S[i, -1].reshape(1, 1) * np.dot(w, S[i, 0:p]) <= 0:\n",
    "                mis = True\n",
    "                w = w + S[i, -1].reshape(1, 1) * S[i, 0:p]\n",
    "                ite += 1\n",
    "        epoch_w = np.append(epoch_w, w, axis = 0)\n",
    "        if (mis == False): # after this epoch all points are correctly classified, end and return current w\n",
    "            print('Perceptron algorithm ends at epoch ' + str(e) + '.')\n",
    "            print('Perceptron algorithm ends after ' + str(ite) + ' iterations.')\n",
    "            return epoch_w\n",
    "    print('Perceptron maximum epoch is reached.')\n",
    "    return epoch_w"
   ]
  },
  {
   "cell_type": "code",
   "execution_count": 23,
   "metadata": {},
   "outputs": [
    {
     "name": "stdout",
     "output_type": "stream",
     "text": [
      "[[ 0.75  0.1  -1.  ]\n",
      " [ 0.85  0.8  -1.  ]\n",
      " [ 0.85  0.95  1.  ]\n",
      " [ 0.15  0.1  -1.  ]\n",
      " [ 0.05  0.25  1.  ]\n",
      " [ 0.05  0.5   1.  ]\n",
      " [ 0.85  0.25 -1.  ]]\n"
     ]
    }
   ],
   "source": [
    "S = np.array([[0.75, 0.10, -1], [0.85, 0.8, -1], [0.85, 0.95, 1], [0.15, 0.1, -1], [0.05, 0.25, 1], [0.05, 0.5, 1], [0.85, 0.25, -1]])\n",
    "n = S.shape[0]\n",
    "print(S)"
   ]
  },
  {
   "cell_type": "code",
   "execution_count": 5,
   "metadata": {},
   "outputs": [
    {
     "name": "stdout",
     "output_type": "stream",
     "text": [
      "Perceptron algorithm ends at epoch 2.\n",
      "Perceptron algorithm ends after 7 iterations.\n",
      "[[-0.9   0.5 ]\n",
      " [-1.05  1.1 ]\n",
      " [-1.05  1.1 ]]\n"
     ]
    }
   ],
   "source": [
    "\"\"\"\n",
    "q1a\n",
    "run Perceptron to compute a linear classifier going though the origin on the dataset\n",
    "w initialized at [0, 0]\n",
    "scan the observed points in the given order\n",
    "\"\"\"\n",
    "w_perc = perceptron(S)\n",
    "print(w_perc)"
   ]
  },
  {
   "cell_type": "code",
   "execution_count": 27,
   "metadata": {},
   "outputs": [
    {
     "data": {
      "image/png": "[encoded data removed]",
      "text/plain": [
       "<matplotlib.figure.Figure at 0x1136e18d0>"
      ]
     },
     "metadata": {},
     "output_type": "display_data"
    }
   ],
   "source": [
    "\"\"\"\n",
    "q1a\n",
    "plot observed data points and the perceptron weight after convergence\n",
    "\"\"\"\n",
    "# training points\n",
    "n_classes = 2\n",
    "colors = 'br'\n",
    "for yvalue, color in zip([1, -1], colors):\n",
    "    idx = np.where(S[:, -1] == yvalue)\n",
    "    plt.scatter(S[idx, 0], S[idx, 1], c = color, label = yvalue, edgecolor = 'black', s = 20)\n",
    "\n",
    "# other decision boundaries with same error\n",
    "x_other = 1.1\n",
    "y_other = np.arange(1.035, 1.229, 0.002)\n",
    "for yi in np.nditer(y_other):\n",
    "    plt.plot([0, x_other], [0, yi], 'y')\n",
    "\n",
    "# calculated decision boundary from perceptron\n",
    "x_perc = w_perc[-1, 1]\n",
    "y_perc = -1 * w_perc[-1, 0]\n",
    "plt.plot([0, x_perc], [0, y_perc], 'c', label = 'linear classifier')\n",
    "plt.text(0.45, 0.38, r'$f(x_1, x_2) = -1.05 * x_1 + 1.1 * x_2$' )\n",
    "\n",
    "plt.legend()\n",
    "plt.xlabel(r'$x_1$')\n",
    "plt.ylabel(r'$x_2$')\n",
    "plt.axis([0, 1, 0, 1])\n",
    "plt.grid()\n",
    "plt.show()"
   ]
  },
  {
   "cell_type": "code",
   "execution_count": 28,
   "metadata": {},
   "outputs": [
    {
     "name": "stdout",
     "output_type": "stream",
     "text": [
      "Error rate of decision tree is 0.0\n"
     ]
    }
   ],
   "source": [
    "\"\"\"\n",
    "q1b\n",
    "grow a fully-grown decision tree using Gini Index as the splitting criteria\n",
    "\"\"\"\n",
    "X = S[:, 0: -1]\n",
    "y = S[:, -1]\n",
    "# criteria is gini by default\n",
    "dt = tree.DecisionTreeClassifier()\n",
    "dt = dt.fit(X, y)\n",
    "yhat_tree = dt.predict(X)\n",
    "error_tree = sum(yhat_tree != y) / n\n",
    "print('Error rate of decision tree is', error_tree)"
   ]
  },
  {
   "cell_type": "code",
   "execution_count": 29,
   "metadata": {},
   "outputs": [
    {
     "data": {
      "text/plain": [
       "0"
      ]
     },
     "execution_count": 29,
     "metadata": {},
     "output_type": "execute_result"
    }
   ],
   "source": [
    "# generate png file of the decision tree\n",
    "dotfile = open('tree.dot', 'w')\n",
    "tree.export_graphviz(dt, out_file = dotfile)\n",
    "dotfile.close()\n",
    "system('dot -Tpng tree.dot -o ../hw2_answer/images/q1b_tree.png')\n",
    "system('rm tree.dot')"
   ]
  },
  {
   "cell_type": "code",
   "execution_count": 30,
   "metadata": {},
   "outputs": [
    {
     "data": {
      "image/png": "[encoded data removed]",
      "text/plain": [
       "<matplotlib.figure.Figure at 0x11385e780>"
      ]
     },
     "metadata": {},
     "output_type": "display_data"
    }
   ],
   "source": [
    "\"\"\"\n",
    "q1b\n",
    "plot observed data points and decision tree boundary after convergence\n",
    "\n",
    "reference: http://scikit-learn.org/stable/auto_examples/tree/plot_iris.html\n",
    "\"\"\"\n",
    "# Parameters\n",
    "n_classes = 2\n",
    "plot_colors = 'rb'\n",
    "plot_step = 0.02\n",
    "\n",
    "# Plot the decision boundary\n",
    "x_bd_min, x_bd_max = 0, 1.02\n",
    "y_bd_min, y_bd_max = 0, 1.02\n",
    "xx_bd, yy_bd = np.meshgrid(np.arange(x_bd_min, x_bd_max, plot_step),\n",
    "                    np.arange(y_bd_min, y_bd_max, plot_step))\n",
    "plt.tight_layout(h_pad=0.5, w_pad=0.5, pad=2.5)\n",
    "\n",
    "Z_bd = clf.predict(np.c_[xx_bd.ravel(), yy_bd.ravel()])\n",
    "Z_bd = Z_bd.reshape(xx_bd.shape)\n",
    "cs = plt.contourf(xx_bd, yy_bd, Z_bd)\n",
    "\n",
    "plt.xlabel(r'$x_1$')\n",
    "plt.ylabel(r'$x_2$')\n",
    "\n",
    "# Plot the training points\n",
    "for i, color in zip([-1, 1], plot_colors):\n",
    "    idx = np.where(y == i)\n",
    "    plt.scatter(X[idx, 0], X[idx, 1], c=color, label=i,\n",
    "                cmap=plt.cm.RdYlBu, edgecolor='black', s=20)\n",
    "\n",
    "plt.legend()\n",
    "plt.axis(\"tight\")\n",
    "plt.show()"
   ]
  },
  {
   "cell_type": "code",
   "execution_count": 31,
   "metadata": {},
   "outputs": [
    {
     "data": {
      "image/png": "[encoded data removed]",
      "text/plain": [
       "<matplotlib.figure.Figure at 0x113653ba8>"
      ]
     },
     "metadata": {},
     "output_type": "display_data"
    }
   ],
   "source": [
    "# Parameters\n",
    "n_classes = 2\n",
    "plot_colors = 'rb'\n",
    "plot_step = 0.02\n",
    "\n",
    "# Plot the decision boundary\n",
    "x_bd_min, x_bd_max = 0, 1.02\n",
    "y_bd_min, y_bd_max = 0, 1.02\n",
    "xx_bd, yy_bd = np.meshgrid(np.arange(x_bd_min, x_bd_max, plot_step),\n",
    "                    np.arange(y_bd_min, y_bd_max, plot_step))\n",
    "plt.tight_layout(h_pad=0.5, w_pad=0.5, pad=2.5)\n",
    "\n",
    "Z_bd = clf.predict(np.c_[xx_bd.ravel(), yy_bd.ravel()])\n",
    "Z_bd = Z_bd.reshape(xx_bd.shape)\n",
    "cs = plt.contourf(xx_bd, yy_bd, Z_bd)\n",
    "\n",
    "plt.xlabel(r'$x_1$')\n",
    "plt.ylabel(r'$x_2$')\n",
    "\n",
    "# Plot the training points\n",
    "for i, color in zip([-1, 1], plot_colors):\n",
    "    idx = np.where(y == i)\n",
    "    plt.scatter(X[idx, 0], X[idx, 1], c=color, label=i,\n",
    "                cmap=plt.cm.RdYlBu, edgecolor='black', s=20)\n",
    "\n",
    "# other decision boundaries\n",
    "x_other = np.arange(0.05, 0.15, 0.002)\n",
    "y_other = 0.95\n",
    "for xi in np.nditer(x_other):\n",
    "    plt.plot([xi, xi], [0, y_other], 'r')\n",
    "x_other = 0.05\n",
    "y_other = np.arange(0.8, 0.952, 0.002)\n",
    "for yi in np.nditer(y_other):\n",
    "    plt.plot([x_other, 1], [yi, yi], 'r')\n",
    "\n",
    "plt.legend()\n",
    "plt.axis(\"tight\")\n",
    "plt.show()"
   ]
  },
  {
   "cell_type": "code",
   "execution_count": null,
   "metadata": {},
   "outputs": [],
   "source": []
  }
 ],
 "metadata": {
  "kernelspec": {
   "display_name": "Python 3",
   "language": "python",
   "name": "python3"
  },
  "language_info": {
   "codemirror_mode": {
    "name": "ipython",
    "version": 3
   },
   "file_extension": ".py",
   "mimetype": "text/x-python",
   "name": "python",
   "nbconvert_exporter": "python",
   "pygments_lexer": "ipython3",
   "version": "3.6.4"
  }
 },
 "nbformat": 4,
 "nbformat_minor": 2
}
