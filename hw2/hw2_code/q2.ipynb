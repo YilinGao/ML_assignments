{
 "cells": [
  {
   "cell_type": "code",
   "execution_count": null,
   "metadata": {},
   "outputs": [],
   "source": [
    "\"\"\"\n",
    "Compsci 571 Homework 2\n",
    "Question 2 Variable Importance in Trees and Random Forests\n",
    "Yilin Gao (yg95)\n",
    "Python 3.6\n",
    "\"\"\""
   ]
  },
  {
   "cell_type": "code",
   "execution_count": 8,
   "metadata": {},
   "outputs": [],
   "source": [
    "import numpy as np\n",
    "import matplotlib.pyplot as plt\n",
    "from sklearn import tree\n",
    "from os import system"
   ]
  },
  {
   "cell_type": "code",
   "execution_count": 12,
   "metadata": {},
   "outputs": [
    {
     "name": "stdout",
     "output_type": "stream",
     "text": [
      "(500, 6)\n",
      "(100, 6)\n"
     ]
    }
   ],
   "source": [
    "train = np.genfromtxt('train.csv', delimiter=',', skip_header=1)\n",
    "test = np.genfromtxt('test.csv', delimiter=',', skip_header=1)\n",
    "\n",
    "train_X = train[:, 0: -1]\n",
    "train_y = train[:, -1]\n",
    "\n",
    "test_X = test[:, 0: -1]\n",
    "test_y = test[:, -1]\n",
    "\n",
    "print(train.shape)\n",
    "print(test.shape)"
   ]
  },
  {
   "cell_type": "code",
   "execution_count": 19,
   "metadata": {},
   "outputs": [
    {
     "data": {
      "text/plain": [
       "0"
      ]
     },
     "execution_count": 19,
     "metadata": {},
     "output_type": "execute_result"
    }
   ],
   "source": [
    "\"\"\"\n",
    "q2a1\n",
    "decision stump based on the best split\n",
    "decision stump based on the best surrogate split\n",
    "\"\"\"\n",
    "# best split\n",
    "clf = tree.DecisionTreeClassifier(max_depth = 1)\n",
    "clf = clf.fit(train_X, train_y)\n",
    "dotfile = open('tree_best_split.dot', 'w')\n",
    "tree.export_graphviz(clf, out_file = dotfile)\n",
    "dotfile.close()\n",
    "system('dot -Tpng tree_best_split.dot -o ../hw2_answer/images/tree_best_split.png')\n",
    "system('rm tree_best_split.dot')"
   ]
  },
  {
   "cell_type": "code",
   "execution_count": null,
   "metadata": {},
   "outputs": [],
   "source": [
    "\"\"\"\n",
    "q2a2\n",
    "2 variable importance measure of all variables of the tree based on the best split\n",
    "measure 1: importance of variable Xj = total reduction of impurity measure (Gini index) attributable to Xj\n",
    "measure 2: \n",
    "\"\"\""
   ]
  },
  {
   "cell_type": "code",
   "execution_count": 18,
   "metadata": {},
   "outputs": [
    {
     "name": "stdout",
     "output_type": "stream",
     "text": [
      "10.0\n"
     ]
    }
   ],
   "source": [
    "\"\"\"\n",
    "mean squared error on testing data on the two decision stumps\n",
    "MSE = sum (y_i - yhat_i)^2\n",
    "\"\"\"\n",
    "# best split\n",
    "yhat_test_tree_best_split = clf.predict(test_X)\n",
    "mse_test_tree_best_split = np.sum((yhat_test_tree_best_split - test_y) ** 2)\n",
    "print(mse_test_tree_best_split)"
   ]
  },
  {
   "cell_type": "code",
   "execution_count": null,
   "metadata": {},
   "outputs": [],
   "source": []
  }
 ],
 "metadata": {
  "kernelspec": {
   "display_name": "Python 3",
   "language": "python",
   "name": "python3"
  },
  "language_info": {
   "codemirror_mode": {
    "name": "ipython",
    "version": 3
   },
   "file_extension": ".py",
   "mimetype": "text/x-python",
   "name": "python",
   "nbconvert_exporter": "python",
   "pygments_lexer": "ipython3",
   "version": "3.6.4"
  }
 },
 "nbformat": 4,
 "nbformat_minor": 2
}
