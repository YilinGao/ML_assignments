{
 "cells": [
  {
   "cell_type": "markdown",
   "metadata": {},
   "source": [
    "# Compsci 571 Homework 2\n",
    "Question 2 Variable Importance in Trees and Random Forests\n",
    "Yilin Gao (yg95)\n",
    "Python 3.6"
   ]
  },
  {
   "cell_type": "code",
   "execution_count": 1,
   "metadata": {},
   "outputs": [],
   "source": [
    "import numpy as np\n",
    "import matplotlib.pyplot as plt\n",
    "from sklearn import tree\n",
    "from os import system"
   ]
  },
  {
   "cell_type": "code",
   "execution_count": 2,
   "metadata": {},
   "outputs": [
    {
     "name": "stdout",
     "output_type": "stream",
     "text": [
      "(500, 6)\n",
      "(100, 6)\n"
     ]
    }
   ],
   "source": [
    "train = np.genfromtxt('train.csv', delimiter=',', skip_header=1)\n",
    "test = np.genfromtxt('test.csv', delimiter=',', skip_header=1)\n",
    "\n",
    "train_X = train[:, 0: -1]\n",
    "train_y = train[:, -1]\n",
    "\n",
    "test_X = test[:, 0: -1]\n",
    "test_y = test[:, -1]\n",
    "\n",
    "print(train.shape)\n",
    "print(test.shape)"
   ]
  },
  {
   "cell_type": "markdown",
   "metadata": {},
   "source": [
    "## q2a1, decision stump based on the best split"
   ]
  },
  {
   "cell_type": "code",
   "execution_count": 3,
   "metadata": {},
   "outputs": [
    {
     "data": {
      "text/plain": [
       "0"
      ]
     },
     "execution_count": 3,
     "metadata": {},
     "output_type": "execute_result"
    }
   ],
   "source": [
    "# best split\n",
    "dt = tree.DecisionTreeClassifier(max_depth = 1)\n",
    "dt = dt.fit(train_X, train_y)\n",
    "dotfile = open('tree_best_split.dot', 'w')\n",
    "tree.export_graphviz(dt, out_file = dotfile)\n",
    "dotfile.close()\n",
    "system('dot -Tpng tree_best_split.dot -o ../hw2_answer/images/tree_best_split.png')\n",
    "system('rm tree_best_split.dot')"
   ]
  },
  {
   "cell_type": "markdown",
   "metadata": {},
   "source": [
    "## q2a1, decision stump based on the best surrogate split"
   ]
  },
  {
   "cell_type": "code",
   "execution_count": 15,
   "metadata": {},
   "outputs": [
    {
     "name": "stdout",
     "output_type": "stream",
     "text": [
      "0.486 0.514\n"
     ]
    }
   ],
   "source": [
    "# pL and pR on X1\n",
    "pl = train_X[train_X[:, 0] < 0.5].shape[0] / 500\n",
    "pr = 1 - pl\n",
    "print(pl, pr)"
   ]
  },
  {
   "cell_type": "code",
   "execution_count": 19,
   "metadata": {},
   "outputs": [
    {
     "name": "stdout",
     "output_type": "stream",
     "text": [
      "0.392 0.414 0.806\n"
     ]
    }
   ],
   "source": [
    "# pL1L2 + pR1R2\n",
    "pl12 = train_X[np.logical_and(train_X[:, 0] < 0.5, train_X[:, 1] < 0.5)].shape[0] / 500\n",
    "pr12 = train_X[np.logical_and(train_X[:, 0] >= 0.5, train_X[:, 1] >= 0.5)].shape[0] / 500\n",
    "print(pl12, pr12, pl12 + pr12)"
   ]
  },
  {
   "cell_type": "code",
   "execution_count": 20,
   "metadata": {},
   "outputs": [
    {
     "name": "stdout",
     "output_type": "stream",
     "text": [
      "0.28 0.21 0.49\n"
     ]
    }
   ],
   "source": [
    "# pL1L3 + pR1R3\n",
    "pl13 = train_X[np.logical_and(train_X[:, 0] < 0.5, train_X[:, 2] < 0.5)].shape[0] / 500\n",
    "pr13 = train_X[np.logical_and(train_X[:, 0] >= 0.5, train_X[:, 2] >= 0.5)].shape[0] / 500\n",
    "print(pl13, pr13, pl13 + pr13)"
   ]
  },
  {
   "cell_type": "code",
   "execution_count": 21,
   "metadata": {},
   "outputs": [
    {
     "name": "stdout",
     "output_type": "stream",
     "text": [
      "0.226 0.258 0.484\n"
     ]
    }
   ],
   "source": [
    "# pL1L4 + pR1R4\n",
    "pl14 = train_X[np.logical_and(train_X[:, 0] < 0.5, train_X[:, 3] < 0.5)].shape[0] / 500\n",
    "pr14 = train_X[np.logical_and(train_X[:, 0] >= 0.5, train_X[:, 3] >= 0.5)].shape[0] / 500\n",
    "print(pl14, pr14, pl14 + pr14)"
   ]
  },
  {
   "cell_type": "code",
   "execution_count": 22,
   "metadata": {},
   "outputs": [
    {
     "name": "stdout",
     "output_type": "stream",
     "text": [
      "0.218 0.3 0.518\n"
     ]
    }
   ],
   "source": [
    "# pL1L5 + pR1R5\n",
    "pl15 = train_X[np.logical_and(train_X[:, 0] < 0.5, train_X[:, 4] < 0.5)].shape[0] / 500\n",
    "pr15 = train_X[np.logical_and(train_X[:, 0] >= 0.5, train_X[:, 4] >= 0.5)].shape[0] / 500\n",
    "print(pl15, pr15, pl15 + pr15)"
   ]
  },
  {
   "cell_type": "markdown",
   "metadata": {},
   "source": [
    "Based on comparison, the best surrogate split for X1 is X2. The splitting threshold doesn't matter."
   ]
  },
  {
   "cell_type": "code",
   "execution_count": 34,
   "metadata": {},
   "outputs": [
    {
     "name": "stdout",
     "output_type": "stream",
     "text": [
      "(246, 5)\n",
      "(70,) (176,)\n",
      "(254, 5)\n",
      "(189,) (65,)\n"
     ]
    }
   ],
   "source": [
    "# calculate statistics (number of observations, distribution) in each division of the best surrogate split tree\n",
    "x2_yes_X = train_X[train_X[:, 1] < 0.5]\n",
    "x2_yes_Y = train_y[train_X[:, 1] < 0.5]\n",
    "print(x2_yes_X.shape)\n",
    "x2_yes_1 = x2_yes_Y[x2_yes_Y == 1]\n",
    "x2_yes_0 = x2_yes_Y[x2_yes_Y == 0]\n",
    "print(x2_yes_1.shape, x2_yes_0.shape)\n",
    "x2_no_X = train_X[train_X[:, 1] >= 0.5]\n",
    "x2_no_Y = train_y[train_X[:, 1] >= 0.5]\n",
    "print(x2_no_X.shape)\n",
    "x2_no_1 = x2_no_Y[x2_no_Y == 1]\n",
    "x2_no_0 = x2_no_Y[x2_no_Y == 0]\n",
    "print(x2_no_1.shape, x2_no_0.shape)"
   ]
  },
  {
   "cell_type": "markdown",
   "metadata": {},
   "source": [
    "## q2a2, 2 variable importance measures of all variables of the tree based on the best split"
   ]
  },
  {
   "cell_type": "code",
   "execution_count": 41,
   "metadata": {},
   "outputs": [
    {
     "name": "stdout",
     "output_type": "stream",
     "text": [
      "0.269822 0.09758800000000001\n"
     ]
    }
   ],
   "source": [
    "x1_importance_2 = 0.499 - 243 / 500 * 0.241 - 257 / 500 * 0.218\n",
    "x2_importance_3 = 0.499 - 246 / 500 * 0.407 - 254 / 500 * 0.396\n",
    "print(x1_importance_2, x2_importance_3)"
   ]
  },
  {
   "cell_type": "markdown",
   "metadata": {},
   "source": [
    "## q2a3, mean least-squares error of prediction on the test data of 2 trees"
   ]
  },
  {
   "cell_type": "code",
   "execution_count": 42,
   "metadata": {},
   "outputs": [
    {
     "name": "stdout",
     "output_type": "stream",
     "text": [
      "0.1\n",
      "0.27\n"
     ]
    }
   ],
   "source": [
    "# best split\n",
    "yhat_test_tree_best_split = dt.predict(test_X)\n",
    "mse_test_tree_best_split = np.sum((yhat_test_tree_best_split - test_y) ** 2) / 100\n",
    "print(mse_test_tree_best_split)\n",
    "# best surrogate split\n",
    "yhat_test_tree_best_sur_split = np.ones(100)\n",
    "yhat_test_tree_best_sur_split[test_X[:, 1] == 0] = 0\n",
    "mse_test_tree_best_sur_split = np.sum((yhat_test_tree_best_sur_split - test_y) ** 2) / 100\n",
    "print(mse_test_tree_best_sur_split)"
   ]
  },
  {
   "cell_type": "code",
   "execution_count": null,
   "metadata": {},
   "outputs": [],
   "source": []
  }
 ],
 "metadata": {
  "kernelspec": {
   "display_name": "Python 3",
   "language": "python",
   "name": "python3"
  },
  "language_info": {
   "codemirror_mode": {
    "name": "ipython",
    "version": 3
   },
   "file_extension": ".py",
   "mimetype": "text/x-python",
   "name": "python",
   "nbconvert_exporter": "python",
   "pygments_lexer": "ipython3",
   "version": "3.6.4"
  }
 },
 "nbformat": 4,
 "nbformat_minor": 2
}
