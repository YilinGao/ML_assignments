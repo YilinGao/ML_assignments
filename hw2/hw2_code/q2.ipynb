{
 "cells": [
  {
   "cell_type": "markdown",
   "metadata": {},
   "source": [
    "# Compsci 571 Homework 2\n",
    "Question 2 Variable Importance in Trees and Random Forests\n",
    "Yilin Gao (yg95)\n",
    "Python 3.6"
   ]
  },
  {
   "cell_type": "code",
   "execution_count": 2,
   "metadata": {},
   "outputs": [],
   "source": [
    "import numpy as np\n",
    "import matplotlib.pyplot as plt\n",
    "from sklearn import tree\n",
    "from os import system"
   ]
  },
  {
   "cell_type": "code",
   "execution_count": 3,
   "metadata": {},
   "outputs": [
    {
     "name": "stdout",
     "output_type": "stream",
     "text": [
      "(500, 6)\n",
      "(100, 6)\n"
     ]
    }
   ],
   "source": [
    "train = np.genfromtxt('train.csv', delimiter=',', skip_header=1)\n",
    "test = np.genfromtxt('test.csv', delimiter=',', skip_header=1)\n",
    "\n",
    "train_X = train[:, 0: -1]\n",
    "train_y = train[:, -1]\n",
    "\n",
    "test_X = test[:, 0: -1]\n",
    "test_y = test[:, -1]\n",
    "\n",
    "print(train.shape)\n",
    "print(test.shape)"
   ]
  },
  {
   "cell_type": "markdown",
   "metadata": {},
   "source": [
    "## q2a1, decision stump based on the best split"
   ]
  },
  {
   "cell_type": "code",
   "execution_count": 21,
   "metadata": {},
   "outputs": [],
   "source": [
    "# split a tree node on variable X[split] and threshold = thre into 2 child nodes\n",
    "# parameter X: the feature matrix, shape = [n, p]\n",
    "# parameter y: the label vector, shape = [n, 1]\n",
    "# parameter split: the index for the splitting variable in the feature matrix, in [0, p)\n",
    "# parameter thre: the splitting threshold for the splitting variable\n",
    "# parameter y0: the actual value of one type of label\n",
    "# parameter y1: the actual value of the other type of label\n",
    "# return X_left: the feature matrix X of the subset of data with X[split] < thre, shape = [nl, p]\n",
    "# return y_left: the lable vector y of the subset of data with X[split] < thre, shape = [nl, 1]\n",
    "# return y_left_0: the label vector y of the subset of data with X[split] < thre and y == 0, shape = [nl0, 1]\n",
    "# return y_left_1: the label vector y of the subset of data with X[split] < thre and y == 1, shape = [nl1, 1]\n",
    "# return X_right: the feature matrix X of the subset of data with X[split] >= thre, shape = [nr, p]\n",
    "# return y_right: the lable vector y of the subset of data with X[split] >= thre, shape = [nr, 1]\n",
    "# return y_right_0: the label vector y of the subset of data with X[split] >= thre and y == 0, shape = [nr0, 1]\n",
    "# return y_right_1: the label vector y of the subset of data with X[split] >= thre and y == 1, shape = [nr1, 1]\n",
    "def split_binary_children(X, y, split, thre, y0 = 0, y1 = 1):\n",
    "    # left branch of the splitting node\n",
    "    X_left = X[X[:, split] < thre]\n",
    "    y_left = y[X[:, split] < thre]\n",
    "    y_left_0 = y_left[y_left == y0]\n",
    "    y_left_1 = y_left[y_left == y1]\n",
    "    # right branch of root\n",
    "    X_right = X[X[:, split] >= thre]\n",
    "    y_right = y[X[:, split] >= thre]\n",
    "    y_right_0 = y_right[y_right == y0]\n",
    "    y_right_1 = y_right[y_right == y1]\n",
    "    return X_left, y_left, y_left_0, y_left_1, X_right, y_right, y_right_0, y_right_1"
   ]
  },
  {
   "cell_type": "code",
   "execution_count": 22,
   "metadata": {},
   "outputs": [],
   "source": [
    "# computes gini index of a node with binary labels (0, 1)\n",
    "# parameter n0: number of data points of one category\n",
    "# parameter n1: number of data points of the other category\n",
    "# return the gini index in the node\n",
    "def gini(n0, n1):\n",
    "    n = n0 + n1\n",
    "    return 2 * n0 * n1 / n ** 2"
   ]
  },
  {
   "cell_type": "code",
   "execution_count": 131,
   "metadata": {},
   "outputs": [],
   "source": [
    "# find the split split for a binary decision stump (level = 1)\n",
    "# using gini index (= 2 * p * (1-p)) as the splitting criteria\n",
    "# parameter X: the feature matrix, shape = [n, p]\n",
    "# parameter y: the label vector, shape = [n, 1]\n",
    "# parameter best_thre: the \"preset\" best splitting threshold for the best split variable (in binary case 0.5)\n",
    "# return best: the index for the best splitting variable in X, in [0, p)\n",
    "def best_split(X, y, best_thre):\n",
    "    assert X.shape[0] == y.shape[0]\n",
    "    n = X.shape[0]\n",
    "    p = X.shape[1]\n",
    "    if p == 1: # if only 1 variable in consideration, it is the best split\n",
    "        return 0\n",
    "    best = -1\n",
    "    min_gini = 1\n",
    "    for j in range(0, p): # split on variable X[j] on root\n",
    "        X_left, y_left, y_left_0, y_left_1, X_right, y_right, y_right_0, y_right_1 = split_binary_children(X, y, j, best_thre)\n",
    "        # left branch of root\n",
    "        n_left = X_left.shape[0]\n",
    "        n_left_0 = y_left_0.shape[0]\n",
    "        n_left_1 = y_left_1.shape[0]\n",
    "        assert n_left == n_left_1 + n_left_0 \n",
    "        gini_left = gini(n_left_0, n_left_1)\n",
    "        # right branch of root\n",
    "        n_right = X_right.shape[0]\n",
    "        n_right_0 = y_right_0.shape[0]\n",
    "        n_right_1 = y_right_1.shape[0]\n",
    "        assert n_right == n_right_0 + n_right_1 \n",
    "        gini_right = gini(n_right_0, n_right_1)\n",
    "        # gini after split\n",
    "        assert n == n_left + n_right\n",
    "        gini_j = n_left / n * gini_left + n_right / n * gini_right\n",
    "        if gini_j < min_gini:\n",
    "            best = j\n",
    "            min_gini = gini_j\n",
    "    return best"
   ]
  },
  {
   "cell_type": "code",
   "execution_count": 24,
   "metadata": {},
   "outputs": [
    {
     "name": "stdout",
     "output_type": "stream",
     "text": [
      "The best split variable index is 0\n",
      "The best split variable is X[1]\n"
     ]
    }
   ],
   "source": [
    "best = best_split(train_X, train_y, 0.5)\n",
    "print('The best split variable index is', best)\n",
    "print('The best split variable is X[' + str(best + 1) + ']')"
   ]
  },
  {
   "cell_type": "markdown",
   "metadata": {},
   "source": [
    "Relavent statistics of the decision stump are computed as following:"
   ]
  },
  {
   "cell_type": "code",
   "execution_count": 25,
   "metadata": {},
   "outputs": [
    {
     "name": "stdout",
     "output_type": "stream",
     "text": [
      "Number of points in the left child: 243\n",
      "Number of points in the left child and y = 0: 209\n",
      "Number of points in the left child and y = 1: 34\n",
      "Number of points in the right child: 257\n",
      "Number of points in the right child and y = 0: 32\n",
      "Number of points in the right child and y = 1: 225\n",
      "Gini index before split: 0.499608\n",
      "Gini index in the left child: 0.24068146793341125\n",
      "Gini index in the right child: 0.21801995488198156\n"
     ]
    }
   ],
   "source": [
    "X_left, y_left, y_left_0, y_left_1, X_right, y_right, y_right_0, y_right_1 = split_binary_children(train_X, train_y, best, 0.5)\n",
    "print('Number of points in the left child:', X_left.shape[0])\n",
    "print('Number of points in the left child and y = 0:', y_left_0.shape[0])\n",
    "print('Number of points in the left child and y = 1:', y_left_1.shape[0])\n",
    "print('Number of points in the right child:', X_right.shape[0])\n",
    "print('Number of points in the right child and y = 0:', y_right_0.shape[0])\n",
    "print('Number of points in the right child and y = 1:', y_right_1.shape[0])\n",
    "gini_root = gini(y_left.shape[0], y_right.shape[0])\n",
    "gini_left_0 = gini(y_left_0.shape[0], y_left_1.shape[0])\n",
    "gini_right_0 = gini(y_right_0.shape[0], y_right_1.shape[0])\n",
    "print('Gini index before split:', gini_root)\n",
    "print('Gini index in the left child:', gini_left_0)\n",
    "print('Gini index in the right child:', gini_right_0)"
   ]
  },
  {
   "cell_type": "markdown",
   "metadata": {},
   "source": [
    "Equivalently we could use Sklearn package to compute the best decision stump:"
   ]
  },
  {
   "cell_type": "code",
   "execution_count": 26,
   "metadata": {},
   "outputs": [
    {
     "data": {
      "text/plain": [
       "0"
      ]
     },
     "execution_count": 26,
     "metadata": {},
     "output_type": "execute_result"
    }
   ],
   "source": [
    "# best split using the sklearn package, for the picture\n",
    "dt = tree.DecisionTreeClassifier(max_depth = 1)\n",
    "dt = dt.fit(train_X, train_y)\n",
    "dotfile = open('tree_best_split.dot', 'w')\n",
    "tree.export_graphviz(dt, out_file = dotfile)\n",
    "dotfile.close()\n",
    "system('dot -Tpng tree_best_split.dot -o ../hw2_answer/images/tree_best_split.png')\n",
    "system('rm tree_best_split.dot')"
   ]
  },
  {
   "cell_type": "markdown",
   "metadata": {},
   "source": [
    "## q2a1, decision stump based on the best surrogate split"
   ]
  },
  {
   "cell_type": "code",
   "execution_count": 133,
   "metadata": {},
   "outputs": [],
   "source": [
    "# find the best surrogate split on the root for a given best split stump\n",
    "# parameter X: the feature matrix, shape = [n, p]\n",
    "# parameter best: the index for the best split variable in X, in [0, p)\n",
    "# parameter best_thre: the splitting threshold for the best split variable X[best]\n",
    "# parameter best_surr_thre: the \"preset\" splitting threshold for the best surrogate split variable (in binary case 0.5)\n",
    "# return best_surr: the index for the best surrogate split variable in X, in [0, p)\n",
    "def best_surrogate_split(X, best, best_thre, best_surr_thre):\n",
    "    n = X.shape[0]\n",
    "    p = X.shape[1]\n",
    "    assert best >= 0 and best < p\n",
    "    # pL and pR on the best split variable (not used)\n",
    "    pl = X[X[:, best] < best_thre] / n\n",
    "    pr = 1 - pl\n",
    "    if p == 1: # no best surrogate split variable if only 1 variable in consideration\n",
    "        return -1\n",
    "    # pLbLj + pRbRj for all other variables that are not the best split variable\n",
    "    best_surr = -1\n",
    "    best_surr_sum = 0;\n",
    "    for j in range(0, p):\n",
    "        if j == best: # the best split variable\n",
    "            continue\n",
    "        plblj = X[np.logical_and(X[:, best] < best_thre, X[:, j] < best_surr_thre)].shape[0] / n\n",
    "        prbrj = X[np.logical_and(X[:, best] >= best_thre, X[:, j] >= best_surr_thre)].shape[0] / n\n",
    "        if plblj + prbrj > best_surr_sum:\n",
    "            best_surr = j\n",
    "            best_surr_sum = plblj + prbrj\n",
    "    return best_surr"
   ]
  },
  {
   "cell_type": "code",
   "execution_count": 28,
   "metadata": {},
   "outputs": [
    {
     "name": "stdout",
     "output_type": "stream",
     "text": [
      "The best surrogate split variable index is 1\n",
      "The best surrogate split variable is X[2]\n"
     ]
    }
   ],
   "source": [
    "best_surr = best_surrogate_split(train_X, 0, 0.5, 0.5)\n",
    "print('The best surrogate split variable index is', best_surr)\n",
    "print('The best surrogate split variable is X[' + str(best_surr + 1) + ']')"
   ]
  },
  {
   "cell_type": "markdown",
   "metadata": {},
   "source": [
    "Based on comparison, the best surrogate split for X1 is X2. The splitting threshold doesn't matter since X2 values are binary. Relavent statistics of the decision stump are computed as following:"
   ]
  },
  {
   "cell_type": "code",
   "execution_count": 16,
   "metadata": {},
   "outputs": [
    {
     "name": "stdout",
     "output_type": "stream",
     "text": [
      "Number of points in the left child: 246\n",
      "Number of points in the left child and y = 0: 176\n",
      "Number of points in the left child and y = 1: 70\n",
      "Number of points in the right child: 254\n",
      "Number of points in the right child and y = 0: 65\n",
      "Number of points in the right child and y = 1: 189\n",
      "Gini index before split: 0.499872\n",
      "Gini index in the left child: 0.4071650472602287\n",
      "Gini index in the right child: 0.38083576167152333\n"
     ]
    }
   ],
   "source": [
    "X_left, y_left, y_left_0, y_left_1, X_right, y_right, y_right_0, y_right_1 = split_binary_children(train_X, train_y, best_surr, 0.5)\n",
    "print('Number of points in the left child:', X_left.shape[0])\n",
    "print('Number of points in the left child and y = 0:', y_left_0.shape[0])\n",
    "print('Number of points in the left child and y = 1:', y_left_1.shape[0])\n",
    "print('Number of points in the right child:', X_right.shape[0])\n",
    "print('Number of points in the right child and y = 0:', y_right_0.shape[0])\n",
    "print('Number of points in the right child and y = 1:', y_right_1.shape[0])\n",
    "gini_root = gini(y_left.shape[0], y_right.shape[0])\n",
    "gini_left_1 = gini(y_left_0.shape[0], y_left_1.shape[0])\n",
    "gini_right_1 = gini(y_right_0.shape[0], y_right_1.shape[0])\n",
    "print('Gini index before split:', gini_root)\n",
    "print('Gini index in the left child:', gini_left_1)\n",
    "print('Gini index in the right child:', gini_right_1)"
   ]
  },
  {
   "cell_type": "markdown",
   "metadata": {},
   "source": [
    "## q2a2, 2 variable importance measures of all variables of the tree based on the best split"
   ]
  },
  {
   "cell_type": "code",
   "execution_count": 17,
   "metadata": {},
   "outputs": [
    {
     "name": "stdout",
     "output_type": "stream",
     "text": [
      "0.2708385497750236 0.10608222981883361\n"
     ]
    }
   ],
   "source": [
    "x1_importance_2 = gini_root - 243 / 500 * gini_left_0 - 257 / 500 * gini_right_0\n",
    "x2_importance_3 = gini_root - 246 / 500 * gini_left_1 - 254 / 500 * gini_right_1\n",
    "print(x1_importance_2, x2_importance_3)"
   ]
  },
  {
   "cell_type": "markdown",
   "metadata": {},
   "source": [
    "## q2a3, mean squares error of prediction on the test data of 2 trees"
   ]
  },
  {
   "cell_type": "code",
   "execution_count": 18,
   "metadata": {},
   "outputs": [
    {
     "name": "stdout",
     "output_type": "stream",
     "text": [
      "0.1\n",
      "0.27\n"
     ]
    }
   ],
   "source": [
    "# best split\n",
    "yhat_test_tree_best_split = np.ones(100)\n",
    "yhat_test_tree_best_split[test_X[:, 0] == 0] = 0\n",
    "mse_test_tree_best_split = np.sum((yhat_test_tree_best_split - test_y) ** 2) / 100\n",
    "print(mse_test_tree_best_split)\n",
    "# best surrogate split\n",
    "yhat_test_tree_best_sur_split = np.ones(100)\n",
    "yhat_test_tree_best_sur_split[test_X[:, 1] == 0] = 0\n",
    "mse_test_tree_best_sur_split = np.sum((yhat_test_tree_best_sur_split - test_y) ** 2) / 100\n",
    "print(mse_test_tree_best_sur_split)"
   ]
  },
  {
   "cell_type": "markdown",
   "metadata": {},
   "source": [
    "## q2b1 grow random forest of decision stumps\n",
    "\n",
    "M = 1000 stumps\n",
    "\n",
    "B = 0.8 * n bootstrap training samples\n",
    "\n",
    "K = 1, 2, 3, 4, 5 random seleted variables"
   ]
  },
  {
   "cell_type": "code",
   "execution_count": 120,
   "metadata": {},
   "outputs": [],
   "source": [
    "# parameter M: number of stumps to generate in the forest\n",
    "# parameter b: bootstrap resample percentage\n",
    "# parameter K: number of randomly selected features in each stump\n",
    "def random_forest(X, y, M, b, K):\n",
    "    best_dic = {}\n",
    "    best_surr_dic = {}\n",
    "    imp_5 = {}\n",
    "    imp_6 = {}\n",
    "    trees = np.empty([0, 3]) # split, left predict, right predict\n",
    "    assert X.shape[0] == y.shape[0]\n",
    "    n = X.shape[0]\n",
    "    B = int(round(b * n))\n",
    "    p = X.shape[1]\n",
    "    assert K <= p\n",
    "    for j in range(p):\n",
    "        best_dic[j] = 0\n",
    "        best_surr_dic[j] = 0\n",
    "        imp_5[j] = np.empty([0, 1])\n",
    "        imp_6[j] = np.empty([0, 1])\n",
    "    for m in range(M): # tree\n",
    "        n_idx = np.random.choice(n, B, replace = False)\n",
    "        n_oobidx = list(set(range(n)) - set(n_idx))\n",
    "        feature_idx = np.random.choice(p, K, replace = True) # indices for selected features\n",
    "        y_sample = y[n_idx, :]\n",
    "        X_sample = X[n_idx, :]\n",
    "        X_sample = X_sample[:, feature_idx]\n",
    "        best_idx = best_split(X_sample.reshape(B, K), y_sample.reshape(B, 1), 0.5) # the \"false\" best split variable index in feature_idx\n",
    "        best_surr_idx = best_surrogate_split(X_sample.reshape(B, K), best_idx, 0.5, 0.5) # the \"false\" best surrogate variable index in feature_idx\n",
    "        # update counter        \n",
    "        best = feature_idx[best_idx] # the \"real\" best split variable index in X\n",
    "        best_dic[best] = best_dic[best] + 1\n",
    "        if best_surr_idx != -1: # the best surrogate splitting variable doesn't exist (K = 1)\n",
    "            best_surr = feature_idx[best_surr_idx] # the \"real\" best surrogate variable index in X\n",
    "            best_surr_dic[best_surr] = best_surr_dic[best_surr] + 1\n",
    "        # importance 5\n",
    "        _, y_left, y_left_0, y_left_1, _, y_right, y_right_0, y_right_1 = split_binary_children(X_sample, y_sample, best_idx, 0.5)\n",
    "        gini_root = gini(y_left.shape[0], y_right.shape[0])\n",
    "        gini_left = gini(y_left_0.shape[0], y_left_1.shape[0])\n",
    "        gini_right = gini(y_right_0.shape[0], y_right_1.shape[0])\n",
    "        delta_gini = gini_root - y_left.shape[0] / n * gini_left - y_right.shape[0] / n * gini_right\n",
    "        imp_5[best] = np.append(imp_5[best], np.array([delta_gini]).reshape(1, 1), axis = 0)\n",
    "        # importance 6 TODO\n",
    "        if y_left_0.shape[0] >= (y_left_0.shape[0] + y_left_1.shape[0]) / 2: # the left branch is predicted as 0\n",
    "            left_predict = 0\n",
    "            right_predict = 1\n",
    "        else:\n",
    "            left_predict = 1\n",
    "            right_predict = 0\n",
    "        trees = np.append(trees, np.array([best, left_predict, right_predict]).reshape(1, 3), axis = 0)\n",
    "        # out-of-bag\n",
    "        y_oob = y[n_oobidx, :]\n",
    "        X_oob = X[n_oobidx, :]\n",
    "        X_oob = X_oob[:, best]\n",
    "        # if X value < 0.5, goes to left, else goes to right\n",
    "        yhat_oob = np.ones(n - B)\n",
    "        if y_left_0.shape[0] >= (y_left_0.shape[0] + y_left_1.shape[0]) / 2: # the left branch is predicted as 0\n",
    "            yhat_oob[X_oob < 0.5] = 0\n",
    "        else: # the right branch is predicted as 0\n",
    "            yhat_oob[X_oob >= 0.5] = 0\n",
    "        err_oob = np.sum((yhat_oob - y_oob) ** 2) / (n - B)\n",
    "        # permute X[best]\n",
    "        np.random.shuffle(X_oob)\n",
    "        yhat_oob_perm = np.ones(n - B)\n",
    "        if y_left_0.shape[0] >= (y_left_0.shape[0] + y_left_1.shape[0]) / 2: # the left branch is predicted as 0\n",
    "            yhat_oob_perm[X_oob < 0.5] = 0\n",
    "        else: # the right branch is predicted as 0\n",
    "            yhat_oob_perm[X_oob >= 0.5] = 0\n",
    "        err_oob_perm = np.sum((yhat_oob_perm - y_oob) ** 2) / (n - B)\n",
    "        imp_6[best] = np.append(imp_6[best], np.array([err_oob_perm - err_oob]).reshape(1, 1), axis = 0)\n",
    "    return best_dic, best_surr_dic, imp_5, imp_6, trees"
   ]
  },
  {
   "cell_type": "markdown",
   "metadata": {},
   "source": [
    "## q2b1\n",
    "\n",
    "For each K = 1, 2, 3, 4, 5:\n",
    "\n",
    "    how many times each variable is the best split\n",
    "    \n",
    "    how many times each variable is the best surrogate split"
   ]
  },
  {
   "cell_type": "code",
   "execution_count": 121,
   "metadata": {
    "scrolled": true
   },
   "outputs": [
    {
     "name": "stdout",
     "output_type": "stream",
     "text": [
      "K = 1:\n",
      "The map for best split variable is: {0: 223, 1: 185, 2: 196, 3: 210, 4: 186}\n",
      "The map for best surrogate split variable is: {0: 0, 1: 0, 2: 0, 3: 0, 4: 0}\n",
      "====================\n",
      "K = 2:\n",
      "The map for best split variable is: {0: 368, 1: 290, 2: 134, 3: 128, 4: 80}\n",
      "The map for best surrogate split variable is: {0: 38, 1: 108, 2: 269, 3: 273, 4: 312}\n",
      "====================\n",
      "K = 3:\n",
      "The map for best split variable is: {0: 488, 1: 293, 2: 96, 3: 79, 4: 44}\n",
      "The map for best surrogate split variable is: {0: 104, 1: 261, 2: 206, 3: 176, 4: 253}\n",
      "====================\n",
      "K = 4:\n",
      "The map for best split variable is: {0: 578, 1: 289, 2: 58, 3: 54, 4: 21}\n",
      "The map for best surrogate split variable is: {0: 195, 1: 333, 2: 180, 3: 116, 4: 176}\n",
      "====================\n",
      "K = 5:\n",
      "The map for best split variable is: {0: 672, 1: 256, 2: 27, 3: 31, 4: 14}\n",
      "The map for best surrogate split variable is: {0: 242, 1: 412, 2: 124, 3: 53, 4: 169}\n",
      "====================\n"
     ]
    }
   ],
   "source": [
    "best_dic_list = []\n",
    "imp_5_list = []\n",
    "imp_6_list = []\n",
    "trees_list = []\n",
    "for k in range(1, 6):\n",
    "    best_dic, best_surr_dic, imp_5, imp_6, trees = random_forest(train_X, train_y.reshape((500, 1)), 1000, 0.8, k)\n",
    "    best_dic_list.append(best_dic)\n",
    "    imp_5_list.append(imp_5)\n",
    "    imp_6_list.append(imp_6)\n",
    "    trees_list.append(trees)\n",
    "    print('K = ' + str(k) + ':') \n",
    "    print('The map for best split variable is:', best_dic)\n",
    "    print('The map for best surrogate split variable is:', best_surr_dic)\n",
    "    print('====================')"
   ]
  },
  {
   "cell_type": "markdown",
   "metadata": {},
   "source": [
    "## q2b2\n",
    "\n",
    "For each k = 1, 2, 3, 4, 5:\n",
    "\n",
    "    compute 2 variable importance measures for each variable"
   ]
  },
  {
   "cell_type": "code",
   "execution_count": 122,
   "metadata": {},
   "outputs": [
    {
     "name": "stdout",
     "output_type": "stream",
     "text": [
      "K = 0\n",
      "Variable importance (5) for variable 0 is 0.3174593952979778.\n",
      "Variable importance (6) for variable 0 is 0.0.\n",
      "Variable importance (5) for variable 1 is 0.18515802365968617.\n",
      "Variable importance (6) for variable 1 is 0.0.\n",
      "Variable importance (5) for variable 2 is 0.08664779266261141.\n",
      "Variable importance (6) for variable 2 is 0.0.\n",
      "Variable importance (5) for variable 3 is 0.10049155805900752.\n",
      "Variable importance (6) for variable 3 is 0.0.\n",
      "Variable importance (5) for variable 4 is 0.09178508417729815.\n",
      "Variable importance (6) for variable 4 is 0.0.\n",
      "K = 1\n",
      "Variable importance (5) for variable 0 is 0.31621836104891515.\n",
      "Variable importance (6) for variable 0 is 0.0.\n",
      "Variable importance (5) for variable 1 is 0.18440881351338026.\n",
      "Variable importance (6) for variable 1 is 0.0.\n",
      "Variable importance (5) for variable 2 is 0.08723161103970051.\n",
      "Variable importance (6) for variable 2 is 0.0.\n",
      "Variable importance (5) for variable 3 is 0.10050943352562186.\n",
      "Variable importance (6) for variable 3 is 0.0.\n",
      "Variable importance (5) for variable 4 is 0.09144857832259433.\n",
      "Variable importance (6) for variable 4 is 0.0.\n",
      "K = 2\n",
      "Variable importance (5) for variable 0 is 0.3161618070442161.\n",
      "Variable importance (6) for variable 0 is 0.0.\n",
      "Variable importance (5) for variable 1 is 0.1852969227650768.\n",
      "Variable importance (6) for variable 1 is 0.0.\n",
      "Variable importance (5) for variable 2 is 0.08764507693538444.\n",
      "Variable importance (6) for variable 2 is 0.0.\n",
      "Variable importance (5) for variable 3 is 0.1006994925962774.\n",
      "Variable importance (6) for variable 3 is 0.0.\n",
      "Variable importance (5) for variable 4 is 0.09154394194418947.\n",
      "Variable importance (6) for variable 4 is 0.0.\n",
      "K = 3\n",
      "Variable importance (5) for variable 0 is 0.31648058491876935.\n",
      "Variable importance (6) for variable 0 is 0.0.\n",
      "Variable importance (5) for variable 1 is 0.18511457164155837.\n",
      "Variable importance (6) for variable 1 is 0.0.\n",
      "Variable importance (5) for variable 2 is 0.08751715792578968.\n",
      "Variable importance (6) for variable 2 is 0.0.\n",
      "Variable importance (5) for variable 3 is 0.1005727617182657.\n",
      "Variable importance (6) for variable 3 is 0.0.\n",
      "Variable importance (5) for variable 4 is 0.0917977239406784.\n",
      "Variable importance (6) for variable 4 is 0.0.\n",
      "K = 4\n",
      "Variable importance (5) for variable 0 is 0.3159040172757414.\n",
      "Variable importance (6) for variable 0 is 0.0.\n",
      "Variable importance (5) for variable 1 is 0.18459756236285543.\n",
      "Variable importance (6) for variable 1 is 0.0.\n",
      "Variable importance (5) for variable 2 is 0.08799918378646306.\n",
      "Variable importance (6) for variable 2 is 0.0.\n",
      "Variable importance (5) for variable 3 is 0.10126323551123048.\n",
      "Variable importance (6) for variable 3 is 0.0.\n",
      "Variable importance (5) for variable 4 is 0.09140008940934574.\n",
      "Variable importance (6) for variable 4 is 0.0.\n"
     ]
    }
   ],
   "source": [
    "for k in range(5):\n",
    "    imp_5 = imp_5_list[k]\n",
    "    imp_6 = imp_6_list[k]\n",
    "    print('K = {}'.format(k))\n",
    "    for j in range(5): # variable\n",
    "        imp = imp_5[j]\n",
    "        imp = np.sum(imp) / imp.shape[0]\n",
    "        print('Variable importance (5) for variable {} is {}.'.format(j, imp))\n",
    "        imp = imp_6[j]\n",
    "        imp = np.sum(imp) / imp.shape[0]\n",
    "        print('Variable importance (6) for variable {} is {}.'.format(j, imp))"
   ]
  },
  {
   "cell_type": "markdown",
   "metadata": {},
   "source": [
    "## q2b3\n",
    "\n",
    "compute the mean squares loss on the test data using 2 methods:\n",
    "\n",
    "1. use the majority vote of the stumps as the prediction\n",
    "\n",
    "2. find the prediction of each stump, compute squares loss on each, and average the results"
   ]
  },
  {
   "cell_type": "code",
   "execution_count": 96,
   "metadata": {},
   "outputs": [
    {
     "name": "stdout",
     "output_type": "stream",
     "text": [
      "49.4 49.695199999999495\n",
      "49.4 49.524439999999395\n",
      "49.46 49.42969999999928\n",
      "49.46 49.37473999999922\n",
      "49.46 49.362379999999206\n"
     ]
    }
   ],
   "source": [
    "for k in range(5):\n",
    "    best_dic = best_dic_list[k]\n",
    "    trees = trees_list[k]\n",
    "    yhat_test_votes = np.zeros([100, 1]) # count of vote for 1\n",
    "    err1 = 0\n",
    "    err2 = 0\n",
    "    for m in range(1000):\n",
    "        split = int(trees[m, 0])\n",
    "        left_predict = trees[m, 1]\n",
    "        yhat_test = np.ones([test_y.shape[0], 1])\n",
    "        X_split = test_X[:, split]\n",
    "        if left_predict == 0:\n",
    "            yhat_test[X_split < 0.5] = 0\n",
    "        else:\n",
    "            yhat_test[X_split >= 0.5] = 0\n",
    "        yhat_test_votes = yhat_test_votes + yhat_test # if the current vote is 1, add 1 to yhat_test_votes count\n",
    "        err_tree = np.sum((yhat_test - test_y) ** 2) / test_y.shape[0]\n",
    "        err2 = err2 + err_tree\n",
    "    yhat_test_votes[yhat_test_votes <= 500] = 0\n",
    "    yhat_test_votes[yhat_test_votes > 500] = 1\n",
    "    err1 = np.sum((yhat_test_votes - test_y) ** 2) / test_y.shape[0]\n",
    "    err2 = err2 / 1000\n",
    "    print(err1, err2)"
   ]
  },
  {
   "cell_type": "markdown",
   "metadata": {},
   "source": [
    "## q2c grow random forest of decision stumps\n",
    "\n",
    "B = q * n, q = 0.4, 0.5, 0.6, 0.7, 0.8\n",
    "\n",
    "K = 2\n",
    "\n",
    "M = 1000"
   ]
  },
  {
   "cell_type": "code",
   "execution_count": 134,
   "metadata": {},
   "outputs": [
    {
     "name": "stdout",
     "output_type": "stream",
     "text": [
      "q = 0.4:\n",
      "The map for best split variable is: {0: 372, 1: 290, 2: 100, 3: 121, 4: 117}\n",
      "The map for best surrogate split variable is: {0: 44, 1: 128, 2: 288, 3: 265, 4: 275}\n",
      "====================\n",
      "q = 0.5:\n",
      "The map for best split variable is: {0: 349, 1: 285, 2: 135, 3: 121, 4: 110}\n",
      "The map for best surrogate split variable is: {0: 34, 1: 131, 2: 275, 3: 267, 4: 293}\n",
      "====================\n",
      "q = 0.6:\n",
      "The map for best split variable is: {0: 370, 1: 273, 2: 134, 3: 102, 4: 121}\n",
      "The map for best surrogate split variable is: {0: 40, 1: 110, 2: 249, 3: 272, 4: 329}\n",
      "====================\n",
      "q = 0.7:\n",
      "The map for best split variable is: {0: 352, 1: 279, 2: 141, 3: 110, 4: 118}\n",
      "The map for best surrogate split variable is: {0: 34, 1: 116, 2: 281, 3: 268, 4: 301}\n",
      "====================\n",
      "q = 0.8:\n",
      "The map for best split variable is: {0: 362, 1: 284, 2: 139, 3: 128, 4: 87}\n",
      "The map for best surrogate split variable is: {0: 48, 1: 114, 2: 248, 3: 262, 4: 328}\n",
      "====================\n"
     ]
    }
   ],
   "source": [
    "best_dic_list = []\n",
    "imp_5_list = []\n",
    "imp_6_list = []\n",
    "trees_list = []\n",
    "for q in range(4, 9):\n",
    "    best_dic, best_surr_dic, imp_5, imp_6, trees = random_forest(train_X, train_y.reshape((500, 1)), 1000, q / 10, 2)\n",
    "    best_dic_list.append(best_dic)\n",
    "    imp_5_list.append(imp_5)\n",
    "    imp_6_list.append(imp_6)\n",
    "    trees_list.append(trees)\n",
    "    print('q = {}:'.format(q / 10)) \n",
    "    print('The map for best split variable is:', best_dic)\n",
    "    print('The map for best surrogate split variable is:', best_surr_dic)\n",
    "    print('====================')"
   ]
  },
  {
   "cell_type": "markdown",
   "metadata": {},
   "source": [
    "## q2c1 variable importance in (5) and (6)"
   ]
  },
  {
   "cell_type": "code",
   "execution_count": 135,
   "metadata": {},
   "outputs": [
    {
     "name": "stdout",
     "output_type": "stream",
     "text": [
      "q = 0.4\n",
      "Variable importance (5) for variable 0 is 0.40647462062886813.\n",
      "Variable importance (6) for variable 0 is 0.0.\n",
      "Variable importance (5) for variable 1 is 0.34229802167913487.\n",
      "Variable importance (6) for variable 1 is 0.0.\n",
      "Variable importance (5) for variable 2 is 0.28715694520390816.\n",
      "Variable importance (6) for variable 2 is 0.0.\n",
      "Variable importance (5) for variable 3 is 0.2996254077340431.\n",
      "Variable importance (6) for variable 3 is 0.0.\n",
      "Variable importance (5) for variable 4 is 0.2903824900261992.\n",
      "Variable importance (6) for variable 4 is 0.0.\n",
      "q = 0.5\n",
      "Variable importance (5) for variable 0 is 0.38359395065978236.\n",
      "Variable importance (6) for variable 0 is 0.0.\n",
      "Variable importance (5) for variable 1 is 0.30298952449255223.\n",
      "Variable importance (6) for variable 1 is 0.0.\n",
      "Variable importance (5) for variable 2 is 0.23727886345201193.\n",
      "Variable importance (6) for variable 2 is 0.0.\n",
      "Variable importance (5) for variable 3 is 0.2499376607248229.\n",
      "Variable importance (6) for variable 3 is 0.0.\n",
      "Variable importance (5) for variable 4 is 0.24082679483122088.\n",
      "Variable importance (6) for variable 4 is 0.0.\n",
      "q = 0.6\n",
      "Variable importance (5) for variable 0 is 0.36157829115925216.\n",
      "Variable importance (6) for variable 0 is 0.0.\n",
      "Variable importance (5) for variable 1 is 0.2632663653220645.\n",
      "Variable importance (6) for variable 1 is 0.0.\n",
      "Variable importance (5) for variable 2 is 0.1879358390681584.\n",
      "Variable importance (6) for variable 2 is 0.0.\n",
      "Variable importance (5) for variable 3 is 0.2001519919571273.\n",
      "Variable importance (6) for variable 3 is 0.0.\n",
      "Variable importance (5) for variable 4 is 0.1914613121891214.\n",
      "Variable importance (6) for variable 4 is 0.0.\n",
      "q = 0.7\n",
      "Variable importance (5) for variable 0 is 0.33911401455183676.\n",
      "Variable importance (6) for variable 0 is 0.0.\n",
      "Variable importance (5) for variable 1 is 0.22440416134438043.\n",
      "Variable importance (6) for variable 1 is 0.0.\n",
      "Variable importance (5) for variable 2 is 0.13683269627106084.\n",
      "Variable importance (6) for variable 2 is 0.0.\n",
      "Variable importance (5) for variable 3 is 0.15083305198876712.\n",
      "Variable importance (6) for variable 3 is 0.0.\n",
      "Variable importance (5) for variable 4 is 0.14182916645119337.\n",
      "Variable importance (6) for variable 4 is 0.0.\n",
      "q = 0.8\n",
      "Variable importance (5) for variable 0 is 0.31647711781570564.\n",
      "Variable importance (6) for variable 0 is 0.0.\n",
      "Variable importance (5) for variable 1 is 0.1849550278561153.\n",
      "Variable importance (6) for variable 1 is 0.0.\n",
      "Variable importance (5) for variable 2 is 0.08718220973854587.\n",
      "Variable importance (6) for variable 2 is 0.0.\n",
      "Variable importance (5) for variable 3 is 0.10049855223973767.\n",
      "Variable importance (6) for variable 3 is 0.0.\n",
      "Variable importance (5) for variable 4 is 0.09207614977053014.\n",
      "Variable importance (6) for variable 4 is 0.0.\n"
     ]
    }
   ],
   "source": [
    "for q in range(5):\n",
    "    imp_5 = imp_5_list[q]\n",
    "    imp_6 = imp_6_list[q]\n",
    "    print('q = {}'.format((q + 4) / 10))\n",
    "    for j in range(5): # variable\n",
    "        imp = imp_5[j]\n",
    "        imp = np.sum(imp) / imp.shape[0]\n",
    "        print('Variable importance (5) for variable {} is {}.'.format(j, imp))\n",
    "        imp = imp_6[j]\n",
    "        imp = np.sum(imp) / imp.shape[0]\n",
    "        print('Variable importance (6) for variable {} is {}.'.format(j, imp))"
   ]
  },
  {
   "cell_type": "markdown",
   "metadata": {},
   "source": [
    "## q2c2 standard deviation of variable imporance in (5) and (6)"
   ]
  },
  {
   "cell_type": "code",
   "execution_count": 136,
   "metadata": {},
   "outputs": [
    {
     "name": "stdout",
     "output_type": "stream",
     "text": [
      "q = 0.4\n",
      "Standard deviation of variable importance (5) for variable 0 is [0.01137653].\n",
      "Standard deviation of variable importance (6) for variable 0 is [0.].\n",
      "Standard deviation of variable importance (5) for variable 1 is [0.00949841].\n",
      "Standard deviation of variable importance (6) for variable 1 is [0.].\n",
      "Standard deviation of variable importance (5) for variable 2 is [0.00916807].\n",
      "Standard deviation of variable importance (6) for variable 2 is [0.].\n",
      "Standard deviation of variable importance (5) for variable 3 is [0.00306012].\n",
      "Standard deviation of variable importance (6) for variable 3 is [0.].\n",
      "Standard deviation of variable importance (5) for variable 4 is [0.00746454].\n",
      "Standard deviation of variable importance (6) for variable 4 is [0.].\n",
      "q = 0.5\n",
      "Standard deviation of variable importance (5) for variable 0 is [0.01164611].\n",
      "Standard deviation of variable importance (6) for variable 0 is [0.].\n",
      "Standard deviation of variable importance (5) for variable 1 is [0.00982521].\n",
      "Standard deviation of variable importance (6) for variable 1 is [0.].\n",
      "Standard deviation of variable importance (5) for variable 2 is [0.00777255].\n",
      "Standard deviation of variable importance (6) for variable 2 is [0.].\n",
      "Standard deviation of variable importance (5) for variable 3 is [0.00330059].\n",
      "Standard deviation of variable importance (6) for variable 3 is [0.].\n",
      "Standard deviation of variable importance (5) for variable 4 is [0.00602257].\n",
      "Standard deviation of variable importance (6) for variable 4 is [0.].\n",
      "q = 0.6\n",
      "Standard deviation of variable importance (5) for variable 0 is [0.01104073].\n",
      "Standard deviation of variable importance (6) for variable 0 is [0.].\n",
      "Standard deviation of variable importance (5) for variable 1 is [0.00930425].\n",
      "Standard deviation of variable importance (6) for variable 1 is [0.].\n",
      "Standard deviation of variable importance (5) for variable 2 is [0.0057956].\n",
      "Standard deviation of variable importance (6) for variable 2 is [0.].\n",
      "Standard deviation of variable importance (5) for variable 3 is [0.00211394].\n",
      "Standard deviation of variable importance (6) for variable 3 is [0.].\n",
      "Standard deviation of variable importance (5) for variable 4 is [0.00434062].\n",
      "Standard deviation of variable importance (6) for variable 4 is [0.].\n",
      "q = 0.7\n",
      "Standard deviation of variable importance (5) for variable 0 is [0.01024229].\n",
      "Standard deviation of variable importance (6) for variable 0 is [0.].\n",
      "Standard deviation of variable importance (5) for variable 1 is [0.00865117].\n",
      "Standard deviation of variable importance (6) for variable 1 is [0.].\n",
      "Standard deviation of variable importance (5) for variable 2 is [0.00500432].\n",
      "Standard deviation of variable importance (6) for variable 2 is [0.].\n",
      "Standard deviation of variable importance (5) for variable 3 is [0.00177119].\n",
      "Standard deviation of variable importance (6) for variable 3 is [0.].\n",
      "Standard deviation of variable importance (5) for variable 4 is [0.00424676].\n",
      "Standard deviation of variable importance (6) for variable 4 is [0.].\n",
      "q = 0.8\n",
      "Standard deviation of variable importance (5) for variable 0 is [0.00910605].\n",
      "Standard deviation of variable importance (6) for variable 0 is [0.].\n",
      "Standard deviation of variable importance (5) for variable 1 is [0.00715279].\n",
      "Standard deviation of variable importance (6) for variable 1 is [0.].\n",
      "Standard deviation of variable importance (5) for variable 2 is [0.00380045].\n",
      "Standard deviation of variable importance (6) for variable 2 is [0.].\n",
      "Standard deviation of variable importance (5) for variable 3 is [0.00121756].\n",
      "Standard deviation of variable importance (6) for variable 3 is [0.].\n",
      "Standard deviation of variable importance (5) for variable 4 is [0.00330985].\n",
      "Standard deviation of variable importance (6) for variable 4 is [0.].\n"
     ]
    }
   ],
   "source": [
    "for q in range(5):\n",
    "    imp_5 = imp_5_list[q]\n",
    "    imp_6 = imp_6_list[q]\n",
    "    print('q = {}'.format((q + 4) / 10))\n",
    "    for j in range(5): # variable\n",
    "        imp = imp_5[j]\n",
    "        std = np.std(imp, axis = 0)\n",
    "        print('Standard deviation of variable importance (5) for variable {} is {}.'.format(j, std))\n",
    "        imp = imp_6[j]\n",
    "        std = np.std(imp, axis = 0)\n",
    "        print('Standard deviation of variable importance (6) for variable {} is {}.'.format(j, std))"
   ]
  },
  {
   "cell_type": "code",
   "execution_count": null,
   "metadata": {},
   "outputs": [],
   "source": []
  }
 ],
 "metadata": {
  "kernelspec": {
   "display_name": "Python 3",
   "language": "python",
   "name": "python3"
  },
  "language_info": {
   "codemirror_mode": {
    "name": "ipython",
    "version": 3
   },
   "file_extension": ".py",
   "mimetype": "text/x-python",
   "name": "python",
   "nbconvert_exporter": "python",
   "pygments_lexer": "ipython3",
   "version": "3.6.4"
  }
 },
 "nbformat": 4,
 "nbformat_minor": 2
}
