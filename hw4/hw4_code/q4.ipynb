{
 "cells": [
  {
   "cell_type": "markdown",
   "metadata": {},
   "source": [
    "# Compsci 571 HW4 Question 4.2, 4.3\n",
    "## SVM training and testing\n",
    "\n",
    "Yilin Gao (yg95)\n",
    "\n",
    "Python 3.6"
   ]
  },
  {
   "cell_type": "code",
   "execution_count": 20,
   "metadata": {},
   "outputs": [],
   "source": [
    "import numpy as np\n",
    "from sklearn import svm, metrics\n",
    "from sklearn.model_selection import train_test_split\n",
    "import matplotlib.pyplot as plt"
   ]
  },
  {
   "cell_type": "markdown",
   "metadata": {},
   "source": [
    "Import data, normalize features, and separate data into training (0.9) and testing (0.1) sets."
   ]
  },
  {
   "cell_type": "code",
   "execution_count": 2,
   "metadata": {},
   "outputs": [
    {
     "name": "stdout",
     "output_type": "stream",
     "text": [
      "(1319, 9) (1319,)\n"
     ]
    }
   ],
   "source": [
    "data = np.genfromtxt('creditCard.csv', delimiter=',', skip_header=1)\n",
    "n = data.shape[0]\n",
    "X = data[:, :-1]\n",
    "y = data[:, -1]\n",
    "# normalize all features\n",
    "for i in range(X.shape[1]):\n",
    "    mean = np.mean(X[:, i])\n",
    "    std = np.std(X[:, i])\n",
    "    X[:, i] = (X[:, i] - mean) / std\n",
    "print(X.shape, y.shape)"
   ]
  },
  {
   "cell_type": "markdown",
   "metadata": {},
   "source": [
    "Use `sklearn.model_selection.train_test_split` and `numpy` with same random seed will generate different splits. Here I use `sklearn.model_selection.train_test_split`."
   ]
  },
  {
   "cell_type": "code",
   "execution_count": 69,
   "metadata": {},
   "outputs": [],
   "source": [
    "X_train, X_test, y_train, y_test = train_test_split(X, y, test_size = 0.1, random_state = 2018)"
   ]
  },
  {
   "cell_type": "code",
   "execution_count": 62,
   "metadata": {},
   "outputs": [],
   "source": [
    "# np.random.seed(2018)\n",
    "# train_idx = np.random.choice(n, int(n * 0.9), replace = False)\n",
    "# test_idx = np.array(list(set(range(n)) - set(train_idx)))\n",
    "# X_train, y_train = X[train_idx, :], y[train_idx]\n",
    "# X_test, y_test = X[test_idx, :], y[test_idx]"
   ]
  },
  {
   "cell_type": "markdown",
   "metadata": {},
   "source": [
    "## Linear kernel SVM"
   ]
  },
  {
   "cell_type": "code",
   "execution_count": 70,
   "metadata": {},
   "outputs": [],
   "source": [
    "linear_svm = svm.LinearSVC()"
   ]
  },
  {
   "cell_type": "code",
   "execution_count": 71,
   "metadata": {},
   "outputs": [
    {
     "data": {
      "text/plain": [
       "LinearSVC(C=1.0, class_weight=None, dual=True, fit_intercept=True,\n",
       "     intercept_scaling=1, loss='squared_hinge', max_iter=1000,\n",
       "     multi_class='ovr', penalty='l2', random_state=None, tol=0.0001,\n",
       "     verbose=0)"
      ]
     },
     "execution_count": 71,
     "metadata": {},
     "output_type": "execute_result"
    }
   ],
   "source": [
    "linear_svm.fit(X_train, y_train)"
   ]
  },
  {
   "cell_type": "code",
   "execution_count": 72,
   "metadata": {},
   "outputs": [],
   "source": [
    "yhat_test = linear_svm.predict(X_test)\n",
    "yscore_test = linear_svm.decision_function(X_test)"
   ]
  },
  {
   "cell_type": "code",
   "execution_count": 73,
   "metadata": {},
   "outputs": [
    {
     "name": "stdout",
     "output_type": "stream",
     "text": [
      "Linear SVM:\n",
      "Accuracy on testing data: 0.8636363636363636\n",
      "AUC on testing data: 0.8316400580551523\n"
     ]
    }
   ],
   "source": [
    "accu_linear = metrics.accuracy_score(y_test, yhat_test)\n",
    "auc_linear = metrics.roc_auc_score(y_test, yscore_test)\n",
    "fpr_linear, tpr_linear, thresholds_linear = metrics.roc_curve(y_test, yscore_test, pos_label=1)\n",
    "print('Linear SVM:')\n",
    "print('Accuracy on testing data:', accu_linear)\n",
    "print('AUC on testing data:', auc_linear)"
   ]
  },
  {
   "cell_type": "code",
   "execution_count": 74,
   "metadata": {},
   "outputs": [
    {
     "data": {
      "image/png": "[encoded data removed]",
      "text/plain": [
       "<matplotlib.figure.Figure at 0x113e32240>"
      ]
     },
     "metadata": {},
     "output_type": "display_data"
    }
   ],
   "source": [
    "plt.plot(fpr_linear, tpr_linear, label='ROC curve (area = %0.2f)' % auc_linear)\n",
    "plt.xlabel('False Positive Rate')\n",
    "plt.ylabel('True Positive Rate')\n",
    "plt.legend(loc=\"lower right\")\n",
    "plt.title('ROC for Linear SVM')\n",
    "plt.show()"
   ]
  },
  {
   "cell_type": "markdown",
   "metadata": {},
   "source": [
    "## Radial base kernel, $\\sigma^2 = 25$"
   ]
  },
  {
   "cell_type": "code",
   "execution_count": 75,
   "metadata": {},
   "outputs": [],
   "source": [
    "rbf25_svm = svm.SVC(kernel='rbf', gamma=1/25)"
   ]
  },
  {
   "cell_type": "code",
   "execution_count": 76,
   "metadata": {},
   "outputs": [
    {
     "data": {
      "text/plain": [
       "SVC(C=1.0, cache_size=200, class_weight=None, coef0=0.0,\n",
       "  decision_function_shape='ovr', degree=3, gamma=0.04, kernel='rbf',\n",
       "  max_iter=-1, probability=False, random_state=None, shrinking=True,\n",
       "  tol=0.001, verbose=False)"
      ]
     },
     "execution_count": 76,
     "metadata": {},
     "output_type": "execute_result"
    }
   ],
   "source": [
    "rbf25_svm.fit(X_train, y_train)"
   ]
  },
  {
   "cell_type": "code",
   "execution_count": 77,
   "metadata": {},
   "outputs": [],
   "source": [
    "yhat_test_rbf25 = rbf25_svm.predict(X_test)\n",
    "yscore_test_rbf25 = rbf25_svm.decision_function(X_test)"
   ]
  },
  {
   "cell_type": "code",
   "execution_count": 78,
   "metadata": {},
   "outputs": [
    {
     "name": "stdout",
     "output_type": "stream",
     "text": [
      "Gaussian kernel with sigma^2 = 25 SVM:\n",
      "Accuracy on testing data: 0.8484848484848485\n",
      "AUC on testing data: 0.8388969521044993\n"
     ]
    }
   ],
   "source": [
    "accu_rbf25 = metrics.accuracy_score(y_test, yhat_test_rbf25)\n",
    "auc_rbf25 = metrics.roc_auc_score(y_test, yscore_test_rbf25)\n",
    "fpr_rbf25, tpr_rbf25, thresholds_rbf25 = metrics.roc_curve(y_test, yscore_test_rbf25, pos_label=1)\n",
    "print('Gaussian kernel with sigma^2 = 25 SVM:')\n",
    "print('Accuracy on testing data:', accu_rbf25)\n",
    "print('AUC on testing data:', auc_rbf25)"
   ]
  },
  {
   "cell_type": "code",
   "execution_count": 79,
   "metadata": {},
   "outputs": [
    {
     "data": {
      "image/png": "[encoded data removed]",
      "text/plain": [
       "<matplotlib.figure.Figure at 0x1141c1240>"
      ]
     },
     "metadata": {},
     "output_type": "display_data"
    }
   ],
   "source": [
    "plt.plot(fpr_rbf25, tpr_rbf25, label='ROC curve (area = %0.2f)' % auc_rbf25)\n",
    "plt.xlabel('False Positive Rate')\n",
    "plt.ylabel('True Positive Rate')\n",
    "plt.legend(loc=\"lower right\")\n",
    "plt.title(r'ROC for Radial Base Kernel SVM with $\\sigma^2 = 25$')\n",
    "plt.show()"
   ]
  },
  {
   "cell_type": "markdown",
   "metadata": {},
   "source": [
    "## Radial base kernel, $\\sigma^2 = 5$"
   ]
  },
  {
   "cell_type": "code",
   "execution_count": 80,
   "metadata": {},
   "outputs": [],
   "source": [
    "rbf5_svm = svm.SVC(kernel='rbf', gamma=1/5)"
   ]
  },
  {
   "cell_type": "code",
   "execution_count": 81,
   "metadata": {},
   "outputs": [
    {
     "data": {
      "text/plain": [
       "SVC(C=1.0, cache_size=200, class_weight=None, coef0=0.0,\n",
       "  decision_function_shape='ovr', degree=3, gamma=0.2, kernel='rbf',\n",
       "  max_iter=-1, probability=False, random_state=None, shrinking=True,\n",
       "  tol=0.001, verbose=False)"
      ]
     },
     "execution_count": 81,
     "metadata": {},
     "output_type": "execute_result"
    }
   ],
   "source": [
    "rbf5_svm.fit(X_train, y_train)"
   ]
  },
  {
   "cell_type": "code",
   "execution_count": 82,
   "metadata": {},
   "outputs": [],
   "source": [
    "yhat_test_rbf5 = rbf5_svm.predict(X_test)\n",
    "yscore_test_rbf5 = rbf5_svm.decision_function(X_test)"
   ]
  },
  {
   "cell_type": "code",
   "execution_count": 83,
   "metadata": {},
   "outputs": [
    {
     "name": "stdout",
     "output_type": "stream",
     "text": [
      "Gaussian kernel with sigma^2 = 5 SVM:\n",
      "Accuracy on testing data: 0.7954545454545454\n",
      "AUC on testing data: 0.7790275761973875\n"
     ]
    }
   ],
   "source": [
    "accu_rbf5 = metrics.accuracy_score(y_test, yhat_test_rbf5)\n",
    "auc_rbf5 = metrics.roc_auc_score(y_test, yscore_test_rbf5)\n",
    "fpr_rbf5, tpr_rbf5, thresholds_rbf5 = metrics.roc_curve(y_test, yscore_test_rbf5, pos_label=1)\n",
    "print('Gaussian kernel with sigma^2 = 5 SVM:')\n",
    "print('Accuracy on testing data:', accu_rbf5)\n",
    "print('AUC on testing data:', auc_rbf5)"
   ]
  },
  {
   "cell_type": "code",
   "execution_count": 84,
   "metadata": {},
   "outputs": [
    {
     "data": {
      "image/png": "[encoded data removed]",
      "text/plain": [
       "<matplotlib.figure.Figure at 0x1141be828>"
      ]
     },
     "metadata": {},
     "output_type": "display_data"
    }
   ],
   "source": [
    "plt.plot(fpr_rbf5, tpr_rbf5, label='ROC curve (area = %0.2f)' % auc_rbf5)\n",
    "plt.xlabel('False Positive Rate')\n",
    "plt.ylabel('True Positive Rate')\n",
    "plt.legend(loc=\"lower right\")\n",
    "plt.title(r'ROC for Radial Base Kernel SVM with $\\sigma^2 = 5$')\n",
    "plt.show()"
   ]
  },
  {
   "cell_type": "code",
   "execution_count": null,
   "metadata": {},
   "outputs": [],
   "source": []
  }
 ],
 "metadata": {
  "kernelspec": {
   "display_name": "Python 3",
   "language": "python",
   "name": "python3"
  },
  "language_info": {
   "codemirror_mode": {
    "name": "ipython",
    "version": 3
   },
   "file_extension": ".py",
   "mimetype": "text/x-python",
   "name": "python",
   "nbconvert_exporter": "python",
   "pygments_lexer": "ipython3",
   "version": "3.6.4"
  }
 },
 "nbformat": 4,
 "nbformat_minor": 2
}
