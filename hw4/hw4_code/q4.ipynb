{
 "cells": [
  {
   "cell_type": "markdown",
   "metadata": {},
   "source": [
    "# Compsci 571 HW4 Question 4\n",
    "## SVM Implementation\n",
    "\n",
    "Yilin Gao (yg95)\n",
    "\n",
    "Python 3.6"
   ]
  },
  {
   "cell_type": "code",
   "execution_count": 1,
   "metadata": {},
   "outputs": [],
   "source": [
    "import numpy as np\n",
    "from sklearn import metrics\n",
    "import matplotlib.pyplot as plt\n",
    "\n",
    "from svm_classifier import SVMClassifier"
   ]
  },
  {
   "cell_type": "code",
   "execution_count": 2,
   "metadata": {},
   "outputs": [
    {
     "name": "stdout",
     "output_type": "stream",
     "text": [
      "(1319, 9) (1319,)\n"
     ]
    }
   ],
   "source": [
    "data = np.genfromtxt('creditCard.csv', delimiter=',', skip_header=1)\n",
    "n = data.shape[0]\n",
    "X = data[:, :-1]\n",
    "y = data[:, -1]\n",
    "print(X.shape, y.shape)"
   ]
  },
  {
   "cell_type": "code",
   "execution_count": 3,
   "metadata": {},
   "outputs": [],
   "source": [
    "np.random.seed(2018)\n",
    "train_idx = np.random.choice(n, int(n * 0.9), replace = False)\n",
    "test_idx = np.array(list(set(range(n)) - set(train_idx)))\n",
    "X_train, y_train = X[train_idx, :], y[train_idx]\n",
    "X_test, y_test = X[test_idx, :], y[test_idx]"
   ]
  },
  {
   "cell_type": "code",
   "execution_count": 4,
   "metadata": {},
   "outputs": [],
   "source": [
    "def linear_kernel(x1, x2):\n",
    "    return np.dot(x1, x2)"
   ]
  },
  {
   "cell_type": "code",
   "execution_count": 5,
   "metadata": {},
   "outputs": [],
   "source": [
    "linear_svm_classifier = SVMClassifier(linear_kernel)"
   ]
  },
  {
   "cell_type": "code",
   "execution_count": 6,
   "metadata": {},
   "outputs": [
    {
     "name": "stdout",
     "output_type": "stream",
     "text": [
      "     pcost       dcost       gap    pres   dres\n",
      " 0: -2.7000e+02 -5.4000e+02  2e+03  3e+01  2e+00\n",
      " 1: -1.2210e+03 -1.2332e+03  1e+03  2e+01  1e+00\n",
      " 2: -1.3713e+05 -1.3714e+05  1e+03  2e+01  1e+00\n",
      " 3: -1.3592e+09 -1.3592e+09  2e+03  2e+01  1e+00\n",
      " 4: -1.3456e+15 -1.3456e+15  1e+07  2e+01  1e+00\n",
      " 5: -1.3321e+23 -1.3321e+23  1e+13  1e+06  1e+00\n",
      " 6: -1.3188e+33 -1.3188e+33  1e+21  6e+14  1e+00\n",
      " 7: -1.3055e+45 -1.3055e+45  1e+31  3e+28  1e+00\n",
      " 8: -1.2875e+59 -1.2875e+59  1e+43  1e+42  1e+00\n",
      " 9: -4.6187e+74 -4.6187e+74  5e+56  2e+01  1e+00\n",
      "10: -3.2682e+91 -3.2682e+91  3e+71  2e+01  1e+00\n",
      "11: -7.6956e+107 -7.6956e+107  8e+85  8e+90  1e+00\n",
      "12: -4.7083e+124 -4.7083e+124  5e+100 6e+107  1e+00\n",
      "13: -1.6372e+136 -1.6372e+136  2e+112  2e+01  1e+00\n",
      "14: -1.6208e+184 -9.4694e+191  9e+191    inf  3e+07\n",
      "15: -1.6208e+184 -9.4694e+189  9e+189    inf  3e+05\n",
      "16: -1.6208e+184 -9.4694e+189  9e+189    inf  3e+05\n",
      "17: -1.6208e+184 -9.4694e+189  9e+189    inf  3e+05\n",
      "18: -1.6208e+184 -9.4694e+189  9e+189    inf  3e+05\n",
      "19: -1.6208e+184 -9.4694e+189  9e+189    inf  3e+05\n",
      "20: -1.6208e+184 -9.4694e+189  9e+189    inf  3e+05\n",
      "21: -1.6208e+184 -9.4694e+189  9e+189    inf  3e+05\n",
      "22: -1.6208e+184 -9.4694e+189  9e+189    inf  3e+05\n",
      "23: -1.6208e+184 -9.4694e+189  9e+189    inf  3e+05\n",
      "24: -1.6208e+184 -9.4694e+189  9e+189    inf  3e+05\n",
      "25: -1.6208e+184 -9.4694e+189  9e+189    inf  3e+05\n",
      "26: -1.6208e+184 -9.4694e+189  9e+189    inf  3e+05\n",
      "27: -1.6208e+184 -9.4694e+189  9e+189    inf  3e+05\n",
      "28: -1.6208e+184 -9.4694e+189  9e+189    inf  3e+05\n",
      "29: -1.6208e+184 -9.4694e+189  9e+189    inf  4e+05\n",
      "30: -1.6208e+184 -9.4694e+189  9e+189    inf  9e+05\n",
      "31: -1.6208e+184 -9.4694e+189  9e+189    inf  3e+06\n",
      "32: -1.6208e+184 -9.4694e+189  9e+189    inf  7e+06\n",
      "33: -1.6208e+184 -9.4694e+189  9e+189    inf  2e+07\n",
      "34: -1.6208e+184 -9.4694e+189  9e+189    inf  7e+07\n",
      "35: -1.6208e+184 -9.4694e+189  9e+189    inf  2e+08\n",
      "36: -1.6208e+184 -9.4694e+189  9e+189    inf  6e+08\n",
      "37: -1.6208e+184 -9.4694e+189  9e+189    inf  2e+09\n",
      "38: -1.6208e+184 -9.4694e+189  9e+189    inf  6e+09\n",
      "39: -1.6208e+184 -9.4694e+189  9e+189    inf  2e+10\n",
      "40: -1.6208e+184 -9.4694e+189  9e+189    inf  7e+10\n",
      "41: -1.6208e+184 -9.4694e+189  9e+189    inf  1e+11\n",
      "42: -1.6208e+184 -9.4694e+189  9e+189    inf  4e+11\n",
      "43: -1.6208e+184 -9.4694e+189  9e+189    inf  1e+12\n",
      "44: -1.6208e+184 -9.4694e+189  9e+189    inf  4e+12\n",
      "45: -1.6208e+184 -9.4694e+189  9e+189    inf  9e+12\n",
      "46: -1.6208e+184 -9.4694e+189  9e+189    inf  4e+13\n",
      "47: -1.6208e+184 -9.4694e+189  9e+189    inf  8e+13\n",
      "48: -1.6208e+184 -9.4694e+189  9e+189    inf  3e+14\n",
      "49: -1.6208e+184 -9.4694e+189  9e+189    inf  9e+14\n",
      "50: -1.6208e+184 -9.4694e+189  9e+189    inf  3e+15\n",
      "51: -1.6208e+184 -9.4694e+189  9e+189    inf  9e+15\n",
      "52: -1.6208e+184 -9.4694e+189  9e+189    inf  2e+16\n",
      "53: -1.6208e+184 -9.4694e+189  9e+189    inf  7e+16\n",
      "54: -1.6208e+184 -9.4694e+189  9e+189    inf  3e+17\n",
      "55: -1.6208e+184 -9.4694e+189  9e+189    inf  9e+17\n",
      "56: -1.6208e+184 -9.4694e+189  9e+189    inf  4e+18\n",
      "57: -1.6208e+184 -9.4694e+189  9e+189    inf  9e+18\n",
      "58: -1.6208e+184 -9.4694e+189  9e+189    inf  2e+19\n",
      "59: -1.6208e+184 -9.4694e+189  9e+189    inf  6e+19\n",
      "60: -1.6208e+184 -9.4694e+189  9e+189    inf  1e+20\n",
      "61: -1.6208e+184 -9.4694e+189  9e+189    inf  6e+20\n",
      "62: -1.6208e+184 -9.4694e+189  9e+189    inf  2e+21\n",
      "63: -1.6208e+184 -9.4694e+189  9e+189    inf  4e+21\n",
      "64: -1.6208e+184 -9.4694e+189  9e+189    inf  2e+22\n",
      "65: -1.6208e+184 -9.4694e+189  9e+189    inf  4e+22\n",
      "66: -1.6208e+184 -9.4694e+189  9e+189    inf  1e+23\n",
      "67: -1.6208e+184 -9.4694e+189  9e+189    inf  5e+23\n",
      "68: -1.6208e+184 -9.4694e+189  9e+189    inf  1e+24\n",
      "69: -1.6208e+184 -9.4694e+189  9e+189    inf  3e+24\n",
      "70: -1.6208e+184 -9.4694e+189  9e+189    inf  8e+24\n",
      "71: -1.6208e+184 -9.4694e+189  9e+189    inf  3e+25\n",
      "72: -1.6208e+184 -9.4694e+189  9e+189    inf  8e+25\n",
      "73: -1.6208e+184 -9.4694e+189  9e+189    inf  2e+26\n",
      "74: -1.6208e+184 -9.4694e+189  9e+189    inf  9e+26\n",
      "75: -1.6208e+184 -9.4694e+189  9e+189    inf  2e+27\n",
      "76: -1.6208e+184 -9.4694e+189  9e+189    inf  8e+27\n",
      "77: -1.6208e+184 -9.4694e+189  9e+189    inf  2e+28\n",
      "78: -1.6208e+184 -9.4694e+189  9e+189    inf  6e+28\n",
      "79: -1.6208e+184 -9.4694e+189  9e+189    inf  2e+29\n",
      "80: -1.6208e+184 -9.4694e+189  9e+189    inf  6e+29\n",
      "81: -1.6208e+184 -9.4694e+189  9e+189    inf  2e+30\n",
      "82: -1.6208e+184 -9.4694e+189  9e+189    inf  5e+30\n",
      "83: -1.6208e+184 -9.4694e+189  9e+189    inf  1e+31\n",
      "84: -1.6208e+184 -9.4694e+189  9e+189    inf  6e+31\n",
      "85: -1.6208e+184 -9.4694e+189  9e+189    inf  1e+32\n",
      "86: -1.6208e+184 -9.4694e+189  9e+189    inf  5e+32\n",
      "87: -1.6208e+184 -9.4694e+189  9e+189    inf  1e+33\n",
      "88: -1.6208e+184 -9.4694e+189  9e+189    inf  3e+33\n",
      "89: -1.6208e+184 -9.4694e+189  9e+189    inf  1e+34\n",
      "90: -1.6208e+184 -9.4694e+189  9e+189    inf  3e+34\n",
      "91: -1.6208e+184 -9.4694e+189  9e+189    inf  9e+34\n",
      "92: -1.6208e+184 -9.4694e+189  9e+189    inf  3e+35\n",
      "93: -1.6208e+184 -9.4694e+189  9e+189    inf  9e+35\n",
      "94: -1.6208e+184 -9.4694e+189  9e+189    inf  3e+36\n",
      "95: -1.6208e+184 -9.4694e+189  9e+189    inf  9e+36\n",
      "96: -1.6208e+184 -9.4694e+189  9e+189    inf  2e+37\n",
      "97: -1.6208e+184 -9.4694e+189  9e+189    inf  8e+37\n",
      "98: -1.6208e+184 -9.4694e+189  9e+189    inf  2e+38\n",
      "99: -1.6208e+184 -9.4694e+189  9e+189    inf  7e+38\n",
      "100: -1.6208e+184 -9.4694e+189  9e+189    inf  2e+39\n",
      "Terminated (maximum number of iterations reached).\n"
     ]
    }
   ],
   "source": [
    "linear_svm_classifier.train(X_train, y_train)"
   ]
  },
  {
   "cell_type": "code",
   "execution_count": 7,
   "metadata": {},
   "outputs": [
    {
     "name": "stdout",
     "output_type": "stream",
     "text": [
      "[-2.28657313]\n",
      "[[2.74040186e-04 6.05516276e-02 6.06248044e-03 1.02778265e-03\n",
      "  1.40497728e-04 1.63412127e-03 1.93959735e-01 1.44791141e-03\n",
      "  1.65478191e-02]]\n"
     ]
    }
   ],
   "source": [
    "print(linear_svm_classifier.lambda_zero)\n",
    "print(linear_svm_classifier.lambdas)"
   ]
  },
  {
   "cell_type": "code",
   "execution_count": 8,
   "metadata": {},
   "outputs": [],
   "source": [
    "y_hat = linear_svm_classifier.predict(X_test)"
   ]
  },
  {
   "cell_type": "code",
   "execution_count": 9,
   "metadata": {},
   "outputs": [],
   "source": [
    "accu_linear = metrics.accuracy_score(y_test, y_hat)\n",
    "auc_linear = metrics.roc_auc_score(y_test, y_hat)\n",
    "fpr_linear, tpr_linear, thresholds_linear = metrics.roc_curve(y_test, y_hat, pos_label=1)"
   ]
  },
  {
   "cell_type": "code",
   "execution_count": 10,
   "metadata": {},
   "outputs": [
    {
     "data": {
      "image/png": "[encoded data removed]",
      "text/plain": [
       "<matplotlib.figure.Figure at 0x107089470>"
      ]
     },
     "metadata": {},
     "output_type": "display_data"
    }
   ],
   "source": [
    "plt.plot(fpr_linear, tpr_linear, color='orange', label='ROC curve (area = %0.2f)' % auc_linear)\n",
    "plt.xlabel('False Positive Rate')\n",
    "plt.ylabel('True Positive Rate')\n",
    "plt.legend(loc=\"lower right\")\n",
    "plt.show()"
   ]
  },
  {
   "cell_type": "code",
   "execution_count": 11,
   "metadata": {},
   "outputs": [],
   "source": [
    "def radial_kernel_5(x1, x2):\n",
    "    return np.exp(-1 * np.linalg.norm(x1 - x2, 2) ** 2 / 5)"
   ]
  },
  {
   "cell_type": "code",
   "execution_count": 12,
   "metadata": {},
   "outputs": [],
   "source": [
    "radial5_svm_classifier = SVMClassifier(radial_kernel_5)"
   ]
  },
  {
   "cell_type": "code",
   "execution_count": 13,
   "metadata": {},
   "outputs": [
    {
     "name": "stdout",
     "output_type": "stream",
     "text": [
      "     pcost       dcost       gap    pres   dres\n",
      " 0: -2.7000e+02 -5.4000e+02  2e+03  3e+01  2e+00\n",
      " 1: -1.2210e+03 -1.2332e+03  1e+03  2e+01  1e+00\n",
      " 2: -1.3713e+05 -1.3714e+05  1e+03  2e+01  1e+00\n",
      " 3: -1.3592e+09 -1.3592e+09  2e+03  2e+01  1e+00\n",
      " 4: -1.3456e+15 -1.3456e+15  1e+07  2e+01  1e+00\n",
      " 5: -1.3321e+23 -1.3321e+23  1e+13  2e+06  1e+00\n",
      " 6: -1.3188e+33 -1.3188e+33  1e+21  2e+16  1e+00\n",
      " 7: -1.3056e+45 -1.3056e+45  1e+31  2e+28  1e+00\n",
      " 8: -1.2864e+59 -1.2864e+59  1e+43  3e+42  1e+00\n",
      " 9: -6.9169e+74 -6.9169e+74  7e+56  6e+57  1e+00\n",
      "10: -5.3205e+91 -5.3205e+91  5e+71  5e+74  1e+00\n",
      "11: -2.8756e+107 -2.8756e+107  3e+85  1e+89  1e+00\n",
      "12: -2.8468e+151 -9.6383e+155  1e+156 7e+134  2e+04\n",
      "13: -2.8470e+151 -9.6671e+153  1e+154 4e+134  2e+02\n",
      "14: -2.8636e+151 -1.2559e+152  1e+152  2e-05  2e+00\n",
      "15: -4.3474e+151 -4.4946e+151  1e+150  5e-06  5e-01\n",
      "16: -1.3564e+153 -1.3568e+153  5e+149 1e+136  5e-01\n",
      "17: -3.9690e+156 -3.9691e+156  1e+151  4e-06  5e-01\n",
      "18: -1.1606e+162 -1.1606e+162  4e+154  4e-06  5e-01\n",
      "19: -3.3939e+169 -3.3939e+169  1e+160 4e+152  5e-01\n",
      "20: -9.9246e+178 -9.9246e+178  3e+167    inf  5e-01\n",
      "21: -2.9023e+190 -2.9023e+190  1e+177  4e-06  5e-01\n",
      "22: -2.9023e+190 -2.9023e+190  1e+177  4e-06  5e-01\n",
      "23: -2.9023e+190 -2.9023e+190  1e+177  4e-06  5e-01\n",
      "24: -2.9023e+190 -2.9023e+190  1e+177  4e-06  5e-01\n",
      "25: -2.9023e+190 -2.9023e+190  1e+177  4e-06  5e-01\n",
      "26: -2.9023e+190 -2.9023e+190  1e+177  4e-06  8e-01\n",
      "27: -2.9023e+190 -2.9023e+190  1e+177  4e-06  2e+00\n",
      "28: -2.9023e+190 -2.9023e+190  1e+177  4e-06  5e+00\n",
      "29: -2.9023e+190 -2.9023e+190  1e+177  4e-06  1e+01\n",
      "30: -2.9023e+190 -2.9023e+190  1e+177  4e-06  6e+01\n",
      "31: -2.9023e+190 -2.9023e+190  1e+177  4e-06  1e+02\n",
      "32: -2.9023e+190 -2.9023e+190  1e+177  4e-06  5e+02\n",
      "33: -2.9023e+190 -2.9023e+190  1e+177  4e-06  2e+03\n",
      "34: -2.9023e+190 -2.9023e+190  1e+177  4e-06  4e+03\n",
      "35: -2.9023e+190 -2.9023e+190  1e+177  4e-06  1e+04\n",
      "36: -2.9023e+190 -2.9023e+190  1e+177  4e-06  3e+04\n",
      "37: -2.9023e+190 -2.9023e+190  1e+177  4e-06  1e+05\n",
      "38: -2.9023e+190 -2.9023e+190  1e+177  4e-06  5e+05\n",
      "39: -2.9023e+190 -2.9023e+190  1e+177  4e-06  1e+06\n",
      "40: -2.9023e+190 -2.9023e+190  1e+177  4e-06  4e+06\n",
      "41: -2.9023e+190 -2.9023e+190  1e+177  4e-06  8e+06\n",
      "42: -2.9023e+190 -2.9023e+190  1e+177  4e-06  2e+07\n",
      "43: -2.9023e+190 -2.9023e+190  1e+177  4e-06  7e+07\n",
      "44: -2.9023e+190 -2.9023e+190  1e+177  4e-06  2e+08\n",
      "45: -2.9023e+190 -2.9023e+190  1e+177  4e-06  7e+08\n",
      "46: -2.9023e+190 -2.9023e+190  1e+177  4e-06  2e+09\n",
      "47: -2.9023e+190 -2.9023e+190  1e+177  4e-06  5e+09\n",
      "48: -2.9023e+190 -2.9023e+190  1e+177  4e-06  2e+10\n",
      "49: -2.9023e+190 -2.9023e+190  1e+177  4e-06  5e+10\n",
      "50: -2.9023e+190 -2.9023e+190  1e+177  4e-06  2e+11\n",
      "51: -2.9023e+190 -2.9023e+190  1e+177  4e-06  6e+11\n",
      "52: -2.9023e+190 -2.9023e+190  1e+177  4e-06  2e+12\n",
      "53: -2.9023e+190 -2.9023e+190  1e+177  4e-06  7e+12\n",
      "54: -2.9023e+190 -2.9023e+190  1e+177  4e-06  2e+13\n",
      "55: -2.9023e+190 -2.9023e+190  1e+177  4e-06  5e+13\n",
      "56: -2.9023e+190 -2.9023e+190  1e+177  4e-06  2e+14\n",
      "57: -2.9023e+190 -2.9023e+190  1e+177  4e-06  4e+14\n",
      "58: -2.9023e+190 -2.9023e+190  1e+177  4e-06  1e+15\n",
      "59: -2.9023e+190 -2.9023e+190  1e+177  4e-06  4e+15\n",
      "60: -2.9023e+190 -2.9023e+190  1e+177  4e-06  1e+16\n",
      "61: -2.9023e+190 -2.9023e+190  1e+177  4e-06  2e+16\n",
      "62: -2.9023e+190 -2.9023e+190  1e+177  4e-06  6e+16\n",
      "63: -2.9023e+190 -2.9023e+190  1e+177  4e-06  3e+17\n",
      "64: -2.9023e+190 -2.9023e+190  1e+177  4e-06  8e+17\n",
      "65: -2.9023e+190 -2.9023e+190  1e+177  4e-06  3e+18\n",
      "66: -2.9023e+190 -2.9023e+190  1e+177  4e-06  9e+18\n",
      "67: -2.9023e+190 -2.9023e+190  1e+177  4e-06  3e+19\n",
      "68: -2.9023e+190 -2.9023e+190  1e+177  4e-06  8e+19\n",
      "69: -2.9023e+190 -2.9023e+190  1e+177  4e-06  2e+20\n",
      "70: -2.9023e+190 -2.9023e+190  1e+177  4e-06  6e+20\n",
      "71: -2.9023e+190 -2.9023e+190  1e+177  4e-06  2e+21\n",
      "72: -2.9023e+190 -2.9023e+190  1e+177  4e-06  4e+21\n",
      "73: -2.9023e+190 -2.9023e+190  1e+177  4e-06  1e+22\n",
      "74: -2.9023e+190 -2.9023e+190  1e+177  4e-06  5e+22\n",
      "75: -2.9023e+190 -2.9023e+190  1e+177  4e-06  2e+23\n",
      "76: -2.9023e+190 -2.9023e+190  1e+177  4e-06  4e+23\n",
      "77: -2.9023e+190 -2.9023e+190  1e+177  4e-06  1e+24\n",
      "78: -2.9023e+190 -2.9023e+190  1e+177  4e-06  3e+24\n",
      "79: -2.9023e+190 -2.9023e+190  1e+177  4e-06  1e+25\n",
      "80: -2.9023e+190 -2.9023e+190  1e+177  4e-06  4e+25\n",
      "81: -2.9023e+190 -2.9023e+190  1e+177  4e-06  8e+25\n",
      "82: -2.9023e+190 -2.9023e+190  1e+177  4e-06  3e+26\n",
      "83: -2.9023e+190 -2.9023e+190  1e+177  4e-06  6e+26\n",
      "84: -2.9023e+190 -2.9023e+190  1e+177  4e-06  2e+27\n",
      "85: -2.9023e+190 -2.9023e+190  1e+177  4e-06  8e+27\n",
      "86: -2.9023e+190 -2.9023e+190  1e+177  4e-06  3e+28\n",
      "87: -2.9023e+190 -2.9023e+190  1e+177  4e-06  1e+29\n",
      "88: -2.9023e+190 -2.9023e+190  1e+177  4e-06  3e+29\n",
      "89: -2.9023e+190 -2.9023e+190  1e+177  4e-06  6e+29\n",
      "90: -2.9023e+190 -2.9023e+190  1e+177  4e-06  2e+30\n",
      "91: -2.9023e+190 -2.9023e+190  1e+177  4e-06  6e+30\n",
      "92: -2.9023e+190 -2.9023e+190  1e+177  4e-06  2e+31\n",
      "93: -2.9023e+190 -2.9023e+190  1e+177  4e-06  5e+31\n",
      "94: -2.9023e+190 -2.9023e+190  1e+177  4e-06  2e+32\n",
      "95: -2.9023e+190 -2.9023e+190  1e+177  4e-06  5e+32\n",
      "96: -2.9023e+190 -2.9023e+190  1e+177  4e-06  2e+33\n",
      "97: -2.9023e+190 -2.9023e+190  1e+177  4e-06  4e+33\n",
      "98: -2.9023e+190 -2.9023e+190  1e+177  4e-06  2e+34\n",
      "99: -2.9023e+190 -2.9023e+190  1e+177  4e-06  5e+34\n",
      "100: -2.9023e+190 -2.9023e+190  1e+177  4e-06  1e+35\n",
      "Terminated (maximum number of iterations reached).\n"
     ]
    }
   ],
   "source": [
    "radial5_svm_classifier.train(X_train, y_train)"
   ]
  },
  {
   "cell_type": "code",
   "execution_count": 15,
   "metadata": {},
   "outputs": [],
   "source": [
    "y_hat_radial5 = radial5_svm_classifier.predict(X_test)"
   ]
  },
  {
   "cell_type": "code",
   "execution_count": 24,
   "metadata": {},
   "outputs": [],
   "source": [
    "accu_radial5 = metrics.accuracy_score(y_test, y_hat)\n",
    "auc_radial5 = metrics.roc_auc_score(y_test, y_hat)\n",
    "fpr_radial5, tpr_radial5, thresholds_radial5 = metrics.roc_curve(y_test, y_hat_radial5, pos_label=1)"
   ]
  },
  {
   "cell_type": "code",
   "execution_count": 25,
   "metadata": {},
   "outputs": [
    {
     "name": "stdout",
     "output_type": "stream",
     "text": [
      "[0. 1.] [0. 1.]\n"
     ]
    }
   ],
   "source": [
    "print(fpr_radial5, tpr_radial5)"
   ]
  },
  {
   "cell_type": "code",
   "execution_count": 26,
   "metadata": {},
   "outputs": [
    {
     "data": {
      "image/png": "[encoded data removed]",
      "text/plain": [
       "<matplotlib.figure.Figure at 0x103055fd0>"
      ]
     },
     "metadata": {},
     "output_type": "display_data"
    }
   ],
   "source": [
    "plt.plot(fpr_radial5, tpr_radial5, color='orange', label='ROC curve (area = %0.2f)' % accu_radial5)\n",
    "plt.xlabel('False Positive Rate')\n",
    "plt.ylabel('True Positive Rate')\n",
    "plt.legend(loc=\"lower right\")\n",
    "plt.show()"
   ]
  },
  {
   "cell_type": "code",
   "execution_count": 19,
   "metadata": {},
   "outputs": [],
   "source": [
    "def radial_kernel_25(x1, x2):\n",
    "    return np.exp(-1 * np.linalg.norm(x1 - x2, 2) ** 2 / 25)"
   ]
  },
  {
   "cell_type": "code",
   "execution_count": 20,
   "metadata": {},
   "outputs": [],
   "source": [
    "radial25_svm_classifier = SVMClassifier(radial_kernel_25)"
   ]
  },
  {
   "cell_type": "code",
   "execution_count": 22,
   "metadata": {},
   "outputs": [
    {
     "name": "stdout",
     "output_type": "stream",
     "text": [
      "     pcost       dcost       gap    pres   dres\n",
      " 0: -2.7000e+02 -5.4000e+02  2e+03  3e+01  2e+00\n",
      " 1: -1.2210e+03 -1.2332e+03  1e+03  2e+01  1e+00\n",
      " 2: -1.3713e+05 -1.3714e+05  1e+03  2e+01  1e+00\n",
      " 3: -1.3592e+09 -1.3592e+09  2e+03  2e+01  1e+00\n",
      " 4: -1.3456e+15 -1.3456e+15  1e+07  2e+01  1e+00\n",
      " 5: -1.3321e+23 -1.3321e+23  1e+13  2e+06  1e+00\n",
      " 6: -1.3188e+33 -1.3188e+33  1e+21  2e+16  1e+00\n",
      " 7: -1.3056e+45 -1.3056e+45  1e+31  2e+28  1e+00\n",
      " 8: -1.2864e+59 -1.2864e+59  1e+43  3e+42  1e+00\n",
      " 9: -6.9169e+74 -6.9169e+74  7e+56  6e+57  1e+00\n",
      "10: -5.3205e+91 -5.3205e+91  5e+71  5e+74  1e+00\n",
      "11: -2.8756e+107 -2.8756e+107  3e+85  1e+89  1e+00\n",
      "12: -2.8468e+151 -9.6383e+155  1e+156 7e+134  2e+04\n",
      "13: -2.8470e+151 -9.6671e+153  1e+154 4e+134  2e+02\n",
      "14: -2.8636e+151 -1.2559e+152  1e+152  2e-05  2e+00\n",
      "15: -4.3474e+151 -4.4946e+151  1e+150  5e-06  5e-01\n",
      "16: -1.3564e+153 -1.3568e+153  5e+149 1e+136  5e-01\n",
      "17: -3.9690e+156 -3.9691e+156  1e+151  4e-06  5e-01\n",
      "18: -1.1606e+162 -1.1606e+162  4e+154  4e-06  5e-01\n",
      "19: -3.3939e+169 -3.3939e+169  1e+160 4e+152  5e-01\n",
      "20: -9.9246e+178 -9.9246e+178  3e+167    inf  5e-01\n",
      "21: -2.9023e+190 -2.9023e+190  1e+177  4e-06  5e-01\n",
      "22: -2.9023e+190 -2.9023e+190  1e+177  4e-06  5e-01\n",
      "23: -2.9023e+190 -2.9023e+190  1e+177  4e-06  5e-01\n",
      "24: -2.9023e+190 -2.9023e+190  1e+177  4e-06  5e-01\n",
      "25: -2.9023e+190 -2.9023e+190  1e+177  4e-06  5e-01\n",
      "26: -2.9023e+190 -2.9023e+190  1e+177  4e-06  9e-01\n",
      "27: -2.9023e+190 -2.9023e+190  1e+177  4e-06  2e+00\n",
      "28: -2.9023e+190 -2.9023e+190  1e+177  4e-06  5e+00\n",
      "29: -2.9023e+190 -2.9023e+190  1e+177  4e-06  2e+01\n",
      "30: -2.9023e+190 -2.9023e+190  1e+177  4e-06  6e+01\n",
      "31: -2.9023e+190 -2.9023e+190  1e+177  4e-06  1e+02\n",
      "32: -2.9023e+190 -2.9023e+190  1e+177  4e-06  5e+02\n",
      "33: -2.9023e+190 -2.9023e+190  1e+177  4e-06  1e+03\n",
      "34: -2.9023e+190 -2.9023e+190  1e+177  4e-06  4e+03\n",
      "35: -2.9023e+190 -2.9023e+190  1e+177  4e-06  1e+04\n",
      "36: -2.9023e+190 -2.9023e+190  1e+177  4e-06  4e+04\n",
      "37: -2.9023e+190 -2.9023e+190  1e+177  4e-06  1e+05\n",
      "38: -2.9023e+190 -2.9023e+190  1e+177  4e-06  3e+05\n",
      "39: -2.9023e+190 -2.9023e+190  1e+177  4e-06  7e+05\n",
      "40: -2.9023e+190 -2.9023e+190  1e+177  4e-06  4e+06\n",
      "41: -2.9023e+190 -2.9023e+190  1e+177  4e-06  8e+06\n",
      "42: -2.9023e+190 -2.9023e+190  1e+177  4e-06  3e+07\n",
      "43: -2.9023e+190 -2.9023e+190  1e+177  4e-06  7e+07\n",
      "44: -2.9023e+190 -2.9023e+190  1e+177  4e-06  2e+08\n",
      "45: -2.9023e+190 -2.9023e+190  1e+177  4e-06  7e+08\n",
      "46: -2.9023e+190 -2.9023e+190  1e+177  4e-06  3e+09\n",
      "47: -2.9023e+190 -2.9023e+190  1e+177  4e-06  6e+09\n",
      "48: -2.9023e+190 -2.9023e+190  1e+177  4e-06  2e+10\n",
      "49: -2.9023e+190 -2.9023e+190  1e+177  4e-06  5e+10\n",
      "50: -2.9023e+190 -2.9023e+190  1e+177  4e-06  2e+11\n",
      "51: -2.9023e+190 -2.9023e+190  1e+177  4e-06  6e+11\n",
      "52: -2.9023e+190 -2.9023e+190  1e+177  4e-06  2e+12\n",
      "53: -2.9023e+190 -2.9023e+190  1e+177  4e-06  5e+12\n",
      "54: -2.9023e+190 -2.9023e+190  1e+177  4e-06  2e+13\n",
      "55: -2.9023e+190 -2.9023e+190  1e+177  4e-06  4e+13\n",
      "56: -2.9023e+190 -2.9023e+190  1e+177  4e-06  1e+14\n",
      "57: -2.9023e+190 -2.9023e+190  1e+177  4e-06  3e+14\n",
      "58: -2.9023e+190 -2.9023e+190  1e+177  4e-06  1e+15\n",
      "59: -2.9023e+190 -2.9023e+190  1e+177  4e-06  4e+15\n",
      "60: -2.9023e+190 -2.9023e+190  1e+177  4e-06  1e+16\n",
      "61: -2.9023e+190 -2.9023e+190  1e+177  4e-06  3e+16\n",
      "62: -2.9023e+190 -2.9023e+190  1e+177  4e-06  9e+16\n",
      "63: -2.9023e+190 -2.9023e+190  1e+177  4e-06  3e+17\n",
      "64: -2.9023e+190 -2.9023e+190  1e+177  4e-06  1e+18\n",
      "65: -2.9023e+190 -2.9023e+190  1e+177  4e-06  3e+18\n",
      "66: -2.9023e+190 -2.9023e+190  1e+177  4e-06  8e+18\n",
      "67: -2.9023e+190 -2.9023e+190  1e+177  4e-06  2e+19\n",
      "68: -2.9023e+190 -2.9023e+190  1e+177  4e-06  8e+19\n",
      "69: -2.9023e+190 -2.9023e+190  1e+177  4e-06  2e+20\n",
      "70: -2.9023e+190 -2.9023e+190  1e+177  4e-06  7e+20\n",
      "71: -2.9023e+190 -2.9023e+190  1e+177  4e-06  2e+21\n",
      "72: -2.9023e+190 -2.9023e+190  1e+177  4e-06  6e+21\n",
      "73: -2.9023e+190 -2.9023e+190  1e+177  4e-06  2e+22\n",
      "74: -2.9023e+190 -2.9023e+190  1e+177  4e-06  6e+22\n",
      "75: -2.9023e+190 -2.9023e+190  1e+177  4e-06  1e+23\n",
      "76: -2.9023e+190 -2.9023e+190  1e+177  4e-06  5e+23\n",
      "77: -2.9023e+190 -2.9023e+190  1e+177  4e-06  2e+24\n",
      "78: -2.9023e+190 -2.9023e+190  1e+177  4e-06  7e+24\n",
      "79: -2.9023e+190 -2.9023e+190  1e+177  4e-06  1e+25\n",
      "80: -2.9023e+190 -2.9023e+190  1e+177  4e-06  4e+25\n",
      "81: -2.9023e+190 -2.9023e+190  1e+177  4e-06  1e+26\n",
      "82: -2.9023e+190 -2.9023e+190  1e+177  4e-06  4e+26\n",
      "83: -2.9023e+190 -2.9023e+190  1e+177  4e-06  1e+27\n",
      "84: -2.9023e+190 -2.9023e+190  1e+177  4e-06  3e+27\n",
      "85: -2.9023e+190 -2.9023e+190  1e+177  4e-06  9e+27\n",
      "86: -2.9023e+190 -2.9023e+190  1e+177  4e-06  3e+28\n",
      "87: -2.9023e+190 -2.9023e+190  1e+177  4e-06  9e+28\n",
      "88: -2.9023e+190 -2.9023e+190  1e+177  4e-06  3e+29\n",
      "89: -2.9023e+190 -2.9023e+190  1e+177  4e-06  7e+29\n",
      "90: -2.9023e+190 -2.9023e+190  1e+177  4e-06  3e+30\n",
      "91: -2.9023e+190 -2.9023e+190  1e+177  4e-06  8e+30\n",
      "92: -2.9023e+190 -2.9023e+190  1e+177  4e-06  3e+31\n",
      "93: -2.9023e+190 -2.9023e+190  1e+177  4e-06  6e+31\n",
      "94: -2.9023e+190 -2.9023e+190  1e+177  4e-06  2e+32\n",
      "95: -2.9023e+190 -2.9023e+190  1e+177  4e-06  5e+32\n",
      "96: -2.9023e+190 -2.9023e+190  1e+177  4e-06  2e+33\n",
      "97: -2.9023e+190 -2.9023e+190  1e+177  4e-06  6e+33\n",
      "98: -2.9023e+190 -2.9023e+190  1e+177  4e-06  2e+34\n",
      "99: -2.9023e+190 -2.9023e+190  1e+177  4e-06  6e+34\n",
      "100: -2.9023e+190 -2.9023e+190  1e+177  4e-06  2e+35\n",
      "Terminated (maximum number of iterations reached).\n"
     ]
    }
   ],
   "source": [
    "radial25_svm_classifier.train(X_train, y_train)"
   ]
  },
  {
   "cell_type": "code",
   "execution_count": 23,
   "metadata": {},
   "outputs": [],
   "source": [
    "y_hat_radial25 = radial25_svm_classifier.predict(X_test)"
   ]
  },
  {
   "cell_type": "code",
   "execution_count": 27,
   "metadata": {},
   "outputs": [],
   "source": [
    "accu_radial25 = metrics.accuracy_score(y_test, y_hat)\n",
    "auc_radial25 = metrics.roc_auc_score(y_test, y_hat)\n",
    "fpr_radial25, tpr_radial25, thresholds_radial25 = metrics.roc_curve(y_test, y_hat_radial25, pos_label=1)"
   ]
  },
  {
   "cell_type": "code",
   "execution_count": 28,
   "metadata": {},
   "outputs": [
    {
     "data": {
      "image/png": "[encoded data removed]",
      "text/plain": [
       "<matplotlib.figure.Figure at 0x103018d30>"
      ]
     },
     "metadata": {},
     "output_type": "display_data"
    }
   ],
   "source": [
    "plt.plot(fpr_radial25, tpr_radial25, color='orange', label='ROC curve (area = %0.2f)' % accu_radial25)\n",
    "plt.xlabel('False Positive Rate')\n",
    "plt.ylabel('True Positive Rate')\n",
    "plt.legend(loc=\"lower right\")\n",
    "plt.show()"
   ]
  },
  {
   "cell_type": "code",
   "execution_count": null,
   "metadata": {},
   "outputs": [],
   "source": []
  }
 ],
 "metadata": {
  "kernelspec": {
   "display_name": "Python 3",
   "language": "python",
   "name": "python3"
  },
  "language_info": {
   "codemirror_mode": {
    "name": "ipython",
    "version": 3
   },
   "file_extension": ".py",
   "mimetype": "text/x-python",
   "name": "python",
   "nbconvert_exporter": "python",
   "pygments_lexer": "ipython3",
   "version": "3.6.4"
  }
 },
 "nbformat": 4,
 "nbformat_minor": 2
}
