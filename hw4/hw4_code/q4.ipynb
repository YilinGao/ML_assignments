{
 "cells": [
  {
   "cell_type": "markdown",
   "metadata": {},
   "source": [
    "# Compsci 571 HW4 Question 4\n",
    "## SVM Implementation\n",
    "\n",
    "Yilin Gao (yg95)\n",
    "\n",
    "Python 3.6"
   ]
  },
  {
   "cell_type": "code",
   "execution_count": 14,
   "metadata": {},
   "outputs": [],
   "source": [
    "import numpy as np\n",
    "from cvxopt import matrix\n",
    "from cvxopt import solvers"
   ]
  },
  {
   "cell_type": "code",
   "execution_count": 1,
   "metadata": {},
   "outputs": [],
   "source": [
    "# a hard SVM classifier that maximizes minimal margin\n",
    "# f(X) = np.dot(lambda, X) + lambda_0\n",
    "# if the training data is separable, the classifier sets its fail indicator to False, and\n",
    "#     solves the dual optimization problem to compute optimized lambda and lambda_0\n",
    "# else the classifier sets its fail indicator to True, and leave lambda array and lambda_0 \n",
    "class HardSvmClassifier:\n",
    "    def __init__(self): pass\n",
    "    def train(self, X, y): pass\n",
    "    def predict(self, X): pass"
   ]
  },
  {
   "cell_type": "code",
   "execution_count": 9,
   "metadata": {},
   "outputs": [],
   "source": [
    "def __init__(self):\n",
    "    self.fail_ = True\n",
    "    self.lambda_ = None\n",
    "    self.lambda_zero_ = None\n",
    "    self.multipliers_ = None\n",
    "    \n",
    "HardSvmClassifier.__init__ = __init__"
   ]
  },
  {
   "cell_type": "code",
   "execution_count": 15,
   "metadata": {},
   "outputs": [],
   "source": [
    "def train(self, X, y):\n",
    "    assert X.shape[0] == y.shape[0]\n",
    "    n, p = X.shape\n",
    "    \n",
    "    Gram = np.zeros([n, n])\n",
    "    for i in range(n):\n",
    "        for j in range(n):\n",
    "            Gram[i, j] = np.dot(X[i, :], X[j, :])\n",
    "    P = matrix(np.outer(y, y) * Gram)\n",
    "    q = matrix(np.ones(n) * -1)\n",
    "    G = matrix(np.diag(np.ones(n) * -1))\n",
    "    h = matrix(np.zeros(n))\n",
    "    A = matrix(y, (1, n))\n",
    "    b = matrix(0)\n",
    "    sol=solvers.qp(Q, p, G, h, A, b)\n",
    "    if sol['status'] == 'optimal':\n",
    "        self.fail_ = False\n",
    "        self.multipliers_ = np.array(sol['x'])\n",
    "    else:\n",
    "        break\n",
    "    \n",
    "    self.lambda_ = np.zeros([1, p])\n",
    "    sv_index = self.multipliers_ > 1e-5\n",
    "    active_multipliers = self.multipliers_[sv_index]\n",
    "    sv_X = X[sv_index]\n",
    "    sv_y = y[sv_index]\n",
    "    for multiplier, Xi, yi in zip(active_multipliers, sv_X, sv_y):\n",
    "        self.lambda_ += multiplier * yi * Xi\n",
    "    self.lambda_\n",
    "\n",
    "HardSvmClassifier.train = train"
   ]
  },
  {
   "cell_type": "code",
   "execution_count": 6,
   "metadata": {},
   "outputs": [],
   "source": [
    "def predict(self, X):\n",
    "    pass\n",
    "\n",
    "HardSvmClassifier.predict = predict"
   ]
  },
  {
   "cell_type": "code",
   "execution_count": null,
   "metadata": {},
   "outputs": [],
   "source": []
  }
 ],
 "metadata": {
  "kernelspec": {
   "display_name": "Python 3",
   "language": "python",
   "name": "python3"
  },
  "language_info": {
   "codemirror_mode": {
    "name": "ipython",
    "version": 3
   },
   "file_extension": ".py",
   "mimetype": "text/x-python",
   "name": "python",
   "nbconvert_exporter": "python",
   "pygments_lexer": "ipython3",
   "version": "3.6.4"
  }
 },
 "nbformat": 4,
 "nbformat_minor": 2
}
