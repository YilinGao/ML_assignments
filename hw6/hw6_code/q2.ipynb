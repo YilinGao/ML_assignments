{
 "cells": [
  {
   "cell_type": "markdown",
   "metadata": {},
   "source": [
    "## Question 2 EM\n",
    "\n",
    "Yilin Gao (yg95)"
   ]
  },
  {
   "cell_type": "code",
   "execution_count": 1,
   "metadata": {},
   "outputs": [],
   "source": [
    "import numpy as np"
   ]
  },
  {
   "cell_type": "markdown",
   "metadata": {},
   "source": [
    "### simulate data\n",
    "\n",
    "m = 6, n = 100,\n",
    "\n",
    "for each m, 50% chance using machine 1, and 50% change using machine 2\n",
    "\n",
    "theta1 = 0.8, theta2 = 0.3\n",
    "\n",
    "1: broken, 0: not broken"
   ]
  },
  {
   "cell_type": "code",
   "execution_count": 85,
   "metadata": {},
   "outputs": [],
   "source": [
    "X = np.empty([0, 100])\n",
    "for i in range(6):\n",
    "    machine = np.random.rand() # random float in [0, 1) with uniform distribution\n",
    "    broken_prop = 0\n",
    "    if machine > 0.5: # machine 2\n",
    "        broken_prop = 0.3\n",
    "    else: # machine 1\n",
    "        broken_prop = 0.8\n",
    "    row = np.random.rand(1, 100) # random float in [0, 1) with uniform distribution\n",
    "    broken_index = row < broken_prop\n",
    "    row[0, :] = 0\n",
    "    row[broken_index] = 1\n",
    "    X = np.append(X, row, axis=0)"
   ]
  },
  {
   "cell_type": "code",
   "execution_count": 86,
   "metadata": {},
   "outputs": [
    {
     "name": "stdout",
     "output_type": "stream",
     "text": [
      "(6, 100)\n",
      "[33. 35. 81. 71. 75. 81.]\n"
     ]
    }
   ],
   "source": [
    "print(X.shape)\n",
    "broken_count = np.sum(X, axis=1)\n",
    "print(broken_count)"
   ]
  },
  {
   "cell_type": "markdown",
   "metadata": {},
   "source": [
    "### initialize parameters"
   ]
  },
  {
   "cell_type": "code",
   "execution_count": 80,
   "metadata": {},
   "outputs": [],
   "source": [
    "w = np.asarray([0.5, 0.5])\n",
    "theta = np.asarray([0.9, 0.1])"
   ]
  },
  {
   "cell_type": "markdown",
   "metadata": {},
   "source": [
    "### run EM algorithm"
   ]
  },
  {
   "cell_type": "code",
   "execution_count": 38,
   "metadata": {},
   "outputs": [],
   "source": [
    "def has_converged(a, b):\n",
    "    '''\n",
    "    tell if 2 numpy arrays are element-wise equal within a tolerance\n",
    "    '''\n",
    "    if (a is None or a is None):\n",
    "        return False\n",
    "    assert a.shape[0] == b.shape[0]\n",
    "    # Returns True if two arrays are element-wise equal within a tolerance.\n",
    "    return np.allclose(a, b)"
   ]
  },
  {
   "cell_type": "code",
   "execution_count": 79,
   "metadata": {},
   "outputs": [],
   "source": [
    "def EM_onestep(X, w, theta):\n",
    "    m, n = X.shape\n",
    "    assert w.shape[0] == theta.shape[0]\n",
    "    k = w.shape[0]\n",
    "    ## E step\n",
    "    gamma = np.zeros([m, k])\n",
    "    for i in range(k):\n",
    "        gamma[:, i] = np.prod((theta[i] ** X) * ((1 - theta[i]) ** (1 - X)), axis=1) * w[i]\n",
    "    gamma_denominator = np.sum(gamma, axis=1).reshape((m, 1))\n",
    "    gamma = gamma / gamma_denominator\n",
    "    ## M step\n",
    "    theta_new = np.zeros(2)\n",
    "    w_new = np.zeros(2)\n",
    "    for i in range(k):\n",
    "        theta_denominator = np.sum(gamma[:, i])\n",
    "        theta_nominator = np.dot(gamma[:, i], np.sum(X, axis=1) / n)\n",
    "        theta_new[i] = theta_nominator / theta_denominator\n",
    "        w_new[i] = theta_denominator / m\n",
    "    return w_new, theta_new"
   ]
  },
  {
   "cell_type": "code",
   "execution_count": 88,
   "metadata": {},
   "outputs": [
    {
     "name": "stdout",
     "output_type": "stream",
     "text": [
      "(array([0.66666667, 0.33333333]), array([0.77, 0.34]))\n"
     ]
    }
   ],
   "source": [
    "print(EM_onestep(X, w, theta))"
   ]
  },
  {
   "cell_type": "code",
   "execution_count": 78,
   "metadata": {},
   "outputs": [],
   "source": [
    "def EM(X, w, theta):\n",
    "    w_old, theta_old = None, None\n",
    "    w_new, theta_new = w, theta\n",
    "    while (not has_converged(w_old, w_new) and not has_converged(theta_old, theta_new)):\n",
    "        w_old, theta_old = w_new, theta_new\n",
    "        w_new, theta_new = EM_onestep(X, w_old, theta_old)\n",
    "    return w_new, theta_new"
   ]
  },
  {
   "cell_type": "code",
   "execution_count": 87,
   "metadata": {},
   "outputs": [
    {
     "name": "stdout",
     "output_type": "stream",
     "text": [
      "(array([0.66666667, 0.33333333]), array([0.77, 0.34]))\n"
     ]
    }
   ],
   "source": [
    "print(EM(X, w, theta))"
   ]
  },
  {
   "cell_type": "code",
   "execution_count": null,
   "metadata": {},
   "outputs": [],
   "source": []
  }
 ],
 "metadata": {
  "kernelspec": {
   "display_name": "Python 3",
   "language": "python",
   "name": "python3"
  },
  "language_info": {
   "codemirror_mode": {
    "name": "ipython",
    "version": 3
   },
   "file_extension": ".py",
   "mimetype": "text/x-python",
   "name": "python",
   "nbconvert_exporter": "python",
   "pygments_lexer": "ipython3",
   "version": "3.6.4"
  }
 },
 "nbformat": 4,
 "nbformat_minor": 2
}
