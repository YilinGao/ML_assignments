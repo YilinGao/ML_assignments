{
 "cells": [
  {
   "cell_type": "markdown",
   "metadata": {},
   "source": [
    "## Question 2 EM\n",
    "\n",
    "Yilin Gao (yg95)"
   ]
  },
  {
   "cell_type": "code",
   "execution_count": 1,
   "metadata": {},
   "outputs": [],
   "source": [
    "import numpy as np"
   ]
  },
  {
   "cell_type": "markdown",
   "metadata": {},
   "source": [
    "### simulate data\n",
    "\n",
    "m = 6, n = 100,\n",
    "\n",
    "for each m, 50% chance using machine 1, and 50% change using machine 2\n",
    "\n",
    "theta1 = 0.8, theta2 = 0.3\n",
    "\n",
    "1: broken, 0: not broken"
   ]
  },
  {
   "cell_type": "code",
   "execution_count": 2,
   "metadata": {},
   "outputs": [],
   "source": [
    "X = np.zeros([6, 1])\n",
    "for i in range(6):\n",
    "    machine = np.random.rand() # random float in [0, 1) with uniform distribution\n",
    "    broken_prop = 0\n",
    "    if machine > 0.5: # machine 2\n",
    "        broken_prop = 0.3\n",
    "    else: # machine 1\n",
    "        broken_prop = 0.8\n",
    "    row = np.random.rand(1, 100) # random float in [0, 1) with uniform distribution\n",
    "    broken_index = row < broken_prop\n",
    "    X[i, 0] = np.sum(broken_index)"
   ]
  },
  {
   "cell_type": "code",
   "execution_count": 3,
   "metadata": {},
   "outputs": [
    {
     "name": "stdout",
     "output_type": "stream",
     "text": [
      "(6, 1)\n",
      "[[35.]\n",
      " [85.]\n",
      " [79.]\n",
      " [26.]\n",
      " [71.]\n",
      " [74.]]\n"
     ]
    }
   ],
   "source": [
    "print(X.shape)\n",
    "print(X)"
   ]
  },
  {
   "cell_type": "markdown",
   "metadata": {},
   "source": [
    "### initialize parameters"
   ]
  },
  {
   "cell_type": "code",
   "execution_count": 6,
   "metadata": {},
   "outputs": [],
   "source": [
    "w = np.ones([6, 2])\n",
    "w = w / 2\n",
    "theta = np.asarray([0.9, 0.1])"
   ]
  },
  {
   "cell_type": "markdown",
   "metadata": {},
   "source": [
    "### run EM algorithm"
   ]
  },
  {
   "cell_type": "code",
   "execution_count": 5,
   "metadata": {},
   "outputs": [],
   "source": [
    "def has_converged(a, b):\n",
    "    '''\n",
    "    tell if 2 numpy arrays are element-wise equal within a tolerance\n",
    "    '''\n",
    "    if (a is None or a is None):\n",
    "        return False\n",
    "    assert a.shape[0] == b.shape[0]\n",
    "    # Returns True if two arrays are element-wise equal within a tolerance.\n",
    "    return np.allclose(a, b)"
   ]
  },
  {
   "cell_type": "code",
   "execution_count": 28,
   "metadata": {},
   "outputs": [],
   "source": [
    "def EM_onestep(X, n, w, theta):\n",
    "    m = X.shape[0]\n",
    "    assert w.shape[1] == theta.shape[0]\n",
    "    k = w.shape[1]\n",
    "    ## E step\n",
    "    gamma = np.zeros([m, k])\n",
    "    for i in range(k):\n",
    "        gamma[:, i] = ((theta[i] ** X) * ((1 - theta[i]) ** (n - X))).flatten() * w[:, i]\n",
    "    gamma_denominator = np.sum(gamma, axis=1).reshape((m, 1))\n",
    "    gamma = gamma / gamma_denominator\n",
    "    ## M step\n",
    "    theta_new = np.zeros(k)\n",
    "    w_new = np.zeros([m, k])\n",
    "    for i in range(k):\n",
    "        theta_denominator = np.sum(gamma[:, i])\n",
    "        theta_nominator = np.dot(gamma[:, i], X) / n\n",
    "        theta_new[i] = theta_nominator / theta_denominator\n",
    "        w_new[:, i] = gamma[:, i]\n",
    "    w_denominator = np.sum(w_new, axis=1).reshape((m, 1))\n",
    "    w_new = w_new / w_denominator\n",
    "    return w_new, theta_new"
   ]
  },
  {
   "cell_type": "code",
   "execution_count": 29,
   "metadata": {},
   "outputs": [
    {
     "name": "stdout",
     "output_type": "stream",
     "text": [
      "(array([[2.35898249e-29, 1.00000000e+00],\n",
      "       [1.00000000e+00, 1.59596859e-67],\n",
      "       [1.00000000e+00, 4.50748669e-56],\n",
      "       [1.57166343e-46, 1.00000000e+00],\n",
      "       [1.00000000e+00, 8.35246383e-41],\n",
      "       [1.00000000e+00, 1.57166343e-46]]), array([0.7725, 0.305 ]))\n"
     ]
    }
   ],
   "source": [
    "print(EM_onestep(X, 100, w, theta))"
   ]
  },
  {
   "cell_type": "code",
   "execution_count": 24,
   "metadata": {},
   "outputs": [],
   "source": [
    "def EM(X, n, w, theta):\n",
    "    w_old, theta_old = None, None\n",
    "    w_new, theta_new = w, theta\n",
    "    while (not has_converged(w_old, w_new) and not has_converged(theta_old, theta_new)):\n",
    "        w_old, theta_old = w_new, theta_new\n",
    "        w_new, theta_new = EM_onestep(X, n, w_old, theta_old)\n",
    "    return w_new, theta_new"
   ]
  },
  {
   "cell_type": "code",
   "execution_count": 25,
   "metadata": {},
   "outputs": [
    {
     "name": "stdout",
     "output_type": "stream",
     "text": [
      "(array([[9.40710928e-47, 1.00000000e+00],\n",
      "       [1.00000000e+00, 1.48658672e-94],\n",
      "       [1.00000000e+00, 9.00974868e-78],\n",
      "       [6.30481791e-72, 1.00000000e+00],\n",
      "       [1.00000000e+00, 2.14491085e-55],\n",
      "       [1.00000000e+00, 8.71260516e-64]]), array([0.7725, 0.305 ]))\n"
     ]
    }
   ],
   "source": [
    "print(EM(X, 100, w, theta))"
   ]
  },
  {
   "cell_type": "code",
   "execution_count": null,
   "metadata": {},
   "outputs": [],
   "source": []
  }
 ],
 "metadata": {
  "kernelspec": {
   "display_name": "Python 3",
   "language": "python",
   "name": "python3"
  },
  "language_info": {
   "codemirror_mode": {
    "name": "ipython",
    "version": 3
   },
   "file_extension": ".py",
   "mimetype": "text/x-python",
   "name": "python",
   "nbconvert_exporter": "python",
   "pygments_lexer": "ipython3",
   "version": "3.6.4"
  }
 },
 "nbformat": 4,
 "nbformat_minor": 2
}
